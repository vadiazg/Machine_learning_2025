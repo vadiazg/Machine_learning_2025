{
  "nbformat": 4,
  "nbformat_minor": 0,
  "metadata": {
    "colab": {
      "provenance": []
    },
    "kernelspec": {
      "name": "python3",
      "display_name": "Python 3"
    },
    "language_info": {
      "name": "python"
    }
  },
  "cells": [
    {
      "cell_type": "markdown",
      "source": [
        "\n",
        "# Tarea 6. EJERCICIO KNN. \"Students Grading Analysis\""
      ],
      "metadata": {
        "id": "RGwyDKNzFm19"
      }
    },
    {
      "cell_type": "markdown",
      "source": [],
      "metadata": {
        "id": "bGUM_Oa-Fi1s"
      }
    },
    {
      "cell_type": "code",
      "source": [
        "import polars as pl\n",
        "\n",
        "# Asegúrate de que el nombre del archivo sea correcto\n",
        "df = pl.read_csv(\"Students_Grading_Dataset.csv\")\n",
        "\n",
        "# Verificamos que se cargó correctamente\n",
        "print(df.head())\n"
      ],
      "metadata": {
        "colab": {
          "base_uri": "https://localhost:8080/"
        },
        "id": "NMji9nBVDME0",
        "outputId": "7ab15b1e-0729-4050-cb9a-9e0ea3fb6e3e"
      },
      "execution_count": 6,
      "outputs": [
        {
          "output_type": "stream",
          "name": "stdout",
          "text": [
            "shape: (5, 23)\n",
            "┌───────────┬───────────┬───────────┬───────────┬───┬───────────┬───────────┬───────────┬──────────┐\n",
            "│ Student_I ┆ First_Nam ┆ Last_Name ┆ Email     ┆ … ┆ Parent_Ed ┆ Family_In ┆ Stress_Le ┆ Sleep_Ho │\n",
            "│ D         ┆ e         ┆ ---       ┆ ---       ┆   ┆ ucation_L ┆ come_Leve ┆ vel       ┆ urs_per_ │\n",
            "│ ---       ┆ ---       ┆ str       ┆ str       ┆   ┆ evel      ┆ l         ┆ (1-10)    ┆ Night    │\n",
            "│ str       ┆ str       ┆           ┆           ┆   ┆ ---       ┆ ---       ┆ ---       ┆ ---      │\n",
            "│           ┆           ┆           ┆           ┆   ┆ str       ┆ str       ┆ i64       ┆ f64      │\n",
            "╞═══════════╪═══════════╪═══════════╪═══════════╪═══╪═══════════╪═══════════╪═══════════╪══════════╡\n",
            "│ S1000     ┆ Omar      ┆ Williams  ┆ student0@ ┆ … ┆ Master's  ┆ Medium    ┆ 1         ┆ 5.9      │\n",
            "│           ┆           ┆           ┆ universit ┆   ┆           ┆           ┆           ┆          │\n",
            "│           ┆           ┆           ┆ y.com     ┆   ┆           ┆           ┆           ┆          │\n",
            "│ S1001     ┆ Maria     ┆ Brown     ┆ student1@ ┆ … ┆ High      ┆ Low       ┆ 4         ┆ 4.3      │\n",
            "│           ┆           ┆           ┆ universit ┆   ┆ School    ┆           ┆           ┆          │\n",
            "│           ┆           ┆           ┆ y.com     ┆   ┆           ┆           ┆           ┆          │\n",
            "│ S1002     ┆ Ahmed     ┆ Jones     ┆ student2@ ┆ … ┆ High      ┆ Low       ┆ 9         ┆ 6.1      │\n",
            "│           ┆           ┆           ┆ universit ┆   ┆ School    ┆           ┆           ┆          │\n",
            "│           ┆           ┆           ┆ y.com     ┆   ┆           ┆           ┆           ┆          │\n",
            "│ S1003     ┆ Omar      ┆ Williams  ┆ student3@ ┆ … ┆ High      ┆ Low       ┆ 8         ┆ 4.9      │\n",
            "│           ┆           ┆           ┆ universit ┆   ┆ School    ┆           ┆           ┆          │\n",
            "│           ┆           ┆           ┆ y.com     ┆   ┆           ┆           ┆           ┆          │\n",
            "│ S1004     ┆ John      ┆ Smith     ┆ student4@ ┆ … ┆ Master's  ┆ Medium    ┆ 6         ┆ 4.5      │\n",
            "│           ┆           ┆           ┆ universit ┆   ┆           ┆           ┆           ┆          │\n",
            "│           ┆           ┆           ┆ y.com     ┆   ┆           ┆           ┆           ┆          │\n",
            "└───────────┴───────────┴───────────┴───────────┴───┴───────────┴───────────┴───────────┴──────────┘\n"
          ]
        }
      ]
    },
    {
      "cell_type": "code",
      "source": [
        "print(df.columns)\n",
        "print(df.dtypes)\n"
      ],
      "metadata": {
        "colab": {
          "base_uri": "https://localhost:8080/"
        },
        "id": "hZ_A0s4pDQRF",
        "outputId": "b9a4bec2-d578-41b8-e144-15ebc3785f49"
      },
      "execution_count": 7,
      "outputs": [
        {
          "output_type": "stream",
          "name": "stdout",
          "text": [
            "['Student_ID', 'First_Name', 'Last_Name', 'Email', 'Gender', 'Age', 'Department', 'Attendance (%)', 'Midterm_Score', 'Final_Score', 'Assignments_Avg', 'Quizzes_Avg', 'Participation_Score', 'Projects_Score', 'Total_Score', 'Grade', 'Study_Hours_per_Week', 'Extracurricular_Activities', 'Internet_Access_at_Home', 'Parent_Education_Level', 'Family_Income_Level', 'Stress_Level (1-10)', 'Sleep_Hours_per_Night']\n",
            "[String, String, String, String, String, Int64, String, Float64, Float64, Float64, Float64, Float64, Float64, Float64, Float64, String, Float64, String, String, String, String, Int64, Float64]\n"
          ]
        }
      ]
    },
    {
      "cell_type": "markdown",
      "source": [
        "El código comienza importando la biblioteca Polars, que es una alternativa moderna y muy rápida a pandas para el manejo de datos en Python. Luego, se carga el archivo CSV llamado \"Students_Grading_Dataset_Biased.csv\" en un DataFrame llamado df usando la función pl.read_csv(). Esta línea permite tener todos los datos organizados en una estructura tabular para su posterior análisis. A continuación, se imprime df.head() para mostrar las primeras cinco filas del conjunto de datos, lo cual es útil para obtener una vista preliminar de cómo están organizadas las columnas y los valores. Finalmente, al ejecutar df.schema, se obtiene un diccionario que muestra los nombres de todas las columnas junto con sus respectivos tipos de datos (como enteros, texto, flotantes, etc.), lo cual es fundamental para decidir qué tipo de transformaciones o análisis se pueden aplicar después."
      ],
      "metadata": {
        "id": "0mD6mYpoGfm2"
      }
    },
    {
      "cell_type": "code",
      "source": [
        "from google.colab import files\n",
        "uploaded = files.upload()\n"
      ],
      "metadata": {
        "colab": {
          "base_uri": "https://localhost:8080/",
          "height": 73
        },
        "id": "-dKnJGXiEXOc",
        "outputId": "ae986b4f-9d94-44c1-b0aa-7b625fc07cb3"
      },
      "execution_count": 9,
      "outputs": [
        {
          "output_type": "display_data",
          "data": {
            "text/plain": [
              "<IPython.core.display.HTML object>"
            ],
            "text/html": [
              "\n",
              "     <input type=\"file\" id=\"files-ca7ad5af-5304-4bda-bf20-9d91c9eed02f\" name=\"files[]\" multiple disabled\n",
              "        style=\"border:none\" />\n",
              "     <output id=\"result-ca7ad5af-5304-4bda-bf20-9d91c9eed02f\">\n",
              "      Upload widget is only available when the cell has been executed in the\n",
              "      current browser session. Please rerun this cell to enable.\n",
              "      </output>\n",
              "      <script>// Copyright 2017 Google LLC\n",
              "//\n",
              "// Licensed under the Apache License, Version 2.0 (the \"License\");\n",
              "// you may not use this file except in compliance with the License.\n",
              "// You may obtain a copy of the License at\n",
              "//\n",
              "//      http://www.apache.org/licenses/LICENSE-2.0\n",
              "//\n",
              "// Unless required by applicable law or agreed to in writing, software\n",
              "// distributed under the License is distributed on an \"AS IS\" BASIS,\n",
              "// WITHOUT WARRANTIES OR CONDITIONS OF ANY KIND, either express or implied.\n",
              "// See the License for the specific language governing permissions and\n",
              "// limitations under the License.\n",
              "\n",
              "/**\n",
              " * @fileoverview Helpers for google.colab Python module.\n",
              " */\n",
              "(function(scope) {\n",
              "function span(text, styleAttributes = {}) {\n",
              "  const element = document.createElement('span');\n",
              "  element.textContent = text;\n",
              "  for (const key of Object.keys(styleAttributes)) {\n",
              "    element.style[key] = styleAttributes[key];\n",
              "  }\n",
              "  return element;\n",
              "}\n",
              "\n",
              "// Max number of bytes which will be uploaded at a time.\n",
              "const MAX_PAYLOAD_SIZE = 100 * 1024;\n",
              "\n",
              "function _uploadFiles(inputId, outputId) {\n",
              "  const steps = uploadFilesStep(inputId, outputId);\n",
              "  const outputElement = document.getElementById(outputId);\n",
              "  // Cache steps on the outputElement to make it available for the next call\n",
              "  // to uploadFilesContinue from Python.\n",
              "  outputElement.steps = steps;\n",
              "\n",
              "  return _uploadFilesContinue(outputId);\n",
              "}\n",
              "\n",
              "// This is roughly an async generator (not supported in the browser yet),\n",
              "// where there are multiple asynchronous steps and the Python side is going\n",
              "// to poll for completion of each step.\n",
              "// This uses a Promise to block the python side on completion of each step,\n",
              "// then passes the result of the previous step as the input to the next step.\n",
              "function _uploadFilesContinue(outputId) {\n",
              "  const outputElement = document.getElementById(outputId);\n",
              "  const steps = outputElement.steps;\n",
              "\n",
              "  const next = steps.next(outputElement.lastPromiseValue);\n",
              "  return Promise.resolve(next.value.promise).then((value) => {\n",
              "    // Cache the last promise value to make it available to the next\n",
              "    // step of the generator.\n",
              "    outputElement.lastPromiseValue = value;\n",
              "    return next.value.response;\n",
              "  });\n",
              "}\n",
              "\n",
              "/**\n",
              " * Generator function which is called between each async step of the upload\n",
              " * process.\n",
              " * @param {string} inputId Element ID of the input file picker element.\n",
              " * @param {string} outputId Element ID of the output display.\n",
              " * @return {!Iterable<!Object>} Iterable of next steps.\n",
              " */\n",
              "function* uploadFilesStep(inputId, outputId) {\n",
              "  const inputElement = document.getElementById(inputId);\n",
              "  inputElement.disabled = false;\n",
              "\n",
              "  const outputElement = document.getElementById(outputId);\n",
              "  outputElement.innerHTML = '';\n",
              "\n",
              "  const pickedPromise = new Promise((resolve) => {\n",
              "    inputElement.addEventListener('change', (e) => {\n",
              "      resolve(e.target.files);\n",
              "    });\n",
              "  });\n",
              "\n",
              "  const cancel = document.createElement('button');\n",
              "  inputElement.parentElement.appendChild(cancel);\n",
              "  cancel.textContent = 'Cancel upload';\n",
              "  const cancelPromise = new Promise((resolve) => {\n",
              "    cancel.onclick = () => {\n",
              "      resolve(null);\n",
              "    };\n",
              "  });\n",
              "\n",
              "  // Wait for the user to pick the files.\n",
              "  const files = yield {\n",
              "    promise: Promise.race([pickedPromise, cancelPromise]),\n",
              "    response: {\n",
              "      action: 'starting',\n",
              "    }\n",
              "  };\n",
              "\n",
              "  cancel.remove();\n",
              "\n",
              "  // Disable the input element since further picks are not allowed.\n",
              "  inputElement.disabled = true;\n",
              "\n",
              "  if (!files) {\n",
              "    return {\n",
              "      response: {\n",
              "        action: 'complete',\n",
              "      }\n",
              "    };\n",
              "  }\n",
              "\n",
              "  for (const file of files) {\n",
              "    const li = document.createElement('li');\n",
              "    li.append(span(file.name, {fontWeight: 'bold'}));\n",
              "    li.append(span(\n",
              "        `(${file.type || 'n/a'}) - ${file.size} bytes, ` +\n",
              "        `last modified: ${\n",
              "            file.lastModifiedDate ? file.lastModifiedDate.toLocaleDateString() :\n",
              "                                    'n/a'} - `));\n",
              "    const percent = span('0% done');\n",
              "    li.appendChild(percent);\n",
              "\n",
              "    outputElement.appendChild(li);\n",
              "\n",
              "    const fileDataPromise = new Promise((resolve) => {\n",
              "      const reader = new FileReader();\n",
              "      reader.onload = (e) => {\n",
              "        resolve(e.target.result);\n",
              "      };\n",
              "      reader.readAsArrayBuffer(file);\n",
              "    });\n",
              "    // Wait for the data to be ready.\n",
              "    let fileData = yield {\n",
              "      promise: fileDataPromise,\n",
              "      response: {\n",
              "        action: 'continue',\n",
              "      }\n",
              "    };\n",
              "\n",
              "    // Use a chunked sending to avoid message size limits. See b/62115660.\n",
              "    let position = 0;\n",
              "    do {\n",
              "      const length = Math.min(fileData.byteLength - position, MAX_PAYLOAD_SIZE);\n",
              "      const chunk = new Uint8Array(fileData, position, length);\n",
              "      position += length;\n",
              "\n",
              "      const base64 = btoa(String.fromCharCode.apply(null, chunk));\n",
              "      yield {\n",
              "        response: {\n",
              "          action: 'append',\n",
              "          file: file.name,\n",
              "          data: base64,\n",
              "        },\n",
              "      };\n",
              "\n",
              "      let percentDone = fileData.byteLength === 0 ?\n",
              "          100 :\n",
              "          Math.round((position / fileData.byteLength) * 100);\n",
              "      percent.textContent = `${percentDone}% done`;\n",
              "\n",
              "    } while (position < fileData.byteLength);\n",
              "  }\n",
              "\n",
              "  // All done.\n",
              "  yield {\n",
              "    response: {\n",
              "      action: 'complete',\n",
              "    }\n",
              "  };\n",
              "}\n",
              "\n",
              "scope.google = scope.google || {};\n",
              "scope.google.colab = scope.google.colab || {};\n",
              "scope.google.colab._files = {\n",
              "  _uploadFiles,\n",
              "  _uploadFilesContinue,\n",
              "};\n",
              "})(self);\n",
              "</script> "
            ]
          },
          "metadata": {}
        },
        {
          "output_type": "stream",
          "name": "stdout",
          "text": [
            "Saving Students_Grading_Dataset_Biased.csv to Students_Grading_Dataset_Biased.csv\n"
          ]
        }
      ]
    },
    {
      "cell_type": "code",
      "source": [
        "import polars as pl\n",
        "\n",
        "# Asegúrate de que el nombre del archivo sea correcto\n",
        "df = pl.read_csv(\"Students_Grading_Dataset_Biased.csv\")\n",
        "\n",
        "# Verificamos que se cargó correctamente\n",
        "print(df.head())"
      ],
      "metadata": {
        "colab": {
          "base_uri": "https://localhost:8080/"
        },
        "id": "fH4xjG79Ehgs",
        "outputId": "7fb0d4f8-fda5-4231-ecff-0a09aa10b4ed"
      },
      "execution_count": 10,
      "outputs": [
        {
          "output_type": "stream",
          "name": "stdout",
          "text": [
            "shape: (5, 23)\n",
            "┌───────────┬───────────┬───────────┬───────────┬───┬───────────┬───────────┬───────────┬──────────┐\n",
            "│ Student_I ┆ First_Nam ┆ Last_Name ┆ Email     ┆ … ┆ Parent_Ed ┆ Family_In ┆ Stress_Le ┆ Sleep_Ho │\n",
            "│ D         ┆ e         ┆ ---       ┆ ---       ┆   ┆ ucation_L ┆ come_Leve ┆ vel       ┆ urs_per_ │\n",
            "│ ---       ┆ ---       ┆ str       ┆ str       ┆   ┆ evel      ┆ l         ┆ (1-10)    ┆ Night    │\n",
            "│ str       ┆ str       ┆           ┆           ┆   ┆ ---       ┆ ---       ┆ ---       ┆ ---      │\n",
            "│           ┆           ┆           ┆           ┆   ┆ str       ┆ str       ┆ i64       ┆ f64      │\n",
            "╞═══════════╪═══════════╪═══════════╪═══════════╪═══╪═══════════╪═══════════╪═══════════╪══════════╡\n",
            "│ S1000     ┆ Omar      ┆ Williams  ┆ student0@ ┆ … ┆ High      ┆ Medium    ┆ 5         ┆ 4.7      │\n",
            "│           ┆           ┆           ┆ universit ┆   ┆ School    ┆           ┆           ┆          │\n",
            "│           ┆           ┆           ┆ y.com     ┆   ┆           ┆           ┆           ┆          │\n",
            "│ S1001     ┆ Maria     ┆ Brown     ┆ student1@ ┆ … ┆ None      ┆ Medium    ┆ 4         ┆ 9.0      │\n",
            "│           ┆           ┆           ┆ universit ┆   ┆           ┆           ┆           ┆          │\n",
            "│           ┆           ┆           ┆ y.com     ┆   ┆           ┆           ┆           ┆          │\n",
            "│ S1002     ┆ Ahmed     ┆ Jones     ┆ student2@ ┆ … ┆ Master's  ┆ Low       ┆ 6         ┆ 6.2      │\n",
            "│           ┆           ┆           ┆ universit ┆   ┆           ┆           ┆           ┆          │\n",
            "│           ┆           ┆           ┆ y.com     ┆   ┆           ┆           ┆           ┆          │\n",
            "│ S1003     ┆ Omar      ┆ Williams  ┆ student3@ ┆ … ┆ High      ┆ High      ┆ 3         ┆ 6.7      │\n",
            "│           ┆           ┆           ┆ universit ┆   ┆ School    ┆           ┆           ┆          │\n",
            "│           ┆           ┆           ┆ y.com     ┆   ┆           ┆           ┆           ┆          │\n",
            "│ S1004     ┆ John      ┆ Smith     ┆ student4@ ┆ … ┆ High      ┆ High      ┆ 2         ┆ 7.1      │\n",
            "│           ┆           ┆           ┆ universit ┆   ┆ School    ┆           ┆           ┆          │\n",
            "│           ┆           ┆           ┆ y.com     ┆   ┆           ┆           ┆           ┆          │\n",
            "└───────────┴───────────┴───────────┴───────────┴───┴───────────┴───────────┴───────────┴──────────┘\n"
          ]
        }
      ]
    },
    {
      "cell_type": "markdown",
      "source": [],
      "metadata": {
        "id": "IjYgestPFhJt"
      }
    },
    {
      "cell_type": "code",
      "source": [
        "print(df.columns)\n",
        "print(df.dtypes)"
      ],
      "metadata": {
        "colab": {
          "base_uri": "https://localhost:8080/"
        },
        "id": "KJMPLOIIFCiM",
        "outputId": "001feb1b-0caf-4691-d77c-bdf5e53833f7"
      },
      "execution_count": 11,
      "outputs": [
        {
          "output_type": "stream",
          "name": "stdout",
          "text": [
            "['Student_ID', 'First_Name', 'Last_Name', 'Email', 'Gender', 'Age', 'Department', 'Attendance (%)', 'Midterm_Score', 'Final_Score', 'Assignments_Avg', 'Quizzes_Avg', 'Participation_Score', 'Projects_Score', 'Total_Score', 'Grade', 'Study_Hours_per_Week', 'Extracurricular_Activities', 'Internet_Access_at_Home', 'Parent_Education_Level', 'Family_Income_Level', 'Stress_Level (1-10)', 'Sleep_Hours_per_Night']\n",
            "[String, String, String, String, String, Int64, String, Float64, Float64, Float64, Float64, Float64, Float64, Float64, Float64, String, Float64, String, String, String, String, Int64, Float64]\n"
          ]
        }
      ]
    },
    {
      "cell_type": "code",
      "source": [
        "\n",
        "df.schema"
      ],
      "metadata": {
        "colab": {
          "base_uri": "https://localhost:8080/"
        },
        "id": "auZnVgzlFJ30",
        "outputId": "45423367-d514-4dd9-99e6-03dc8b974dd3"
      },
      "execution_count": 12,
      "outputs": [
        {
          "output_type": "execute_result",
          "data": {
            "text/plain": [
              "Schema([('Student_ID', String),\n",
              "        ('First_Name', String),\n",
              "        ('Last_Name', String),\n",
              "        ('Email', String),\n",
              "        ('Gender', String),\n",
              "        ('Age', Int64),\n",
              "        ('Department', String),\n",
              "        ('Attendance (%)', Float64),\n",
              "        ('Midterm_Score', Float64),\n",
              "        ('Final_Score', Float64),\n",
              "        ('Assignments_Avg', Float64),\n",
              "        ('Quizzes_Avg', Float64),\n",
              "        ('Participation_Score', Float64),\n",
              "        ('Projects_Score', Float64),\n",
              "        ('Total_Score', Float64),\n",
              "        ('Grade', String),\n",
              "        ('Study_Hours_per_Week', Float64),\n",
              "        ('Extracurricular_Activities', String),\n",
              "        ('Internet_Access_at_Home', String),\n",
              "        ('Parent_Education_Level', String),\n",
              "        ('Family_Income_Level', String),\n",
              "        ('Stress_Level (1-10)', Int64),\n",
              "        ('Sleep_Hours_per_Night', Float64)])"
            ]
          },
          "metadata": {},
          "execution_count": 12
        }
      ]
    },
    {
      "cell_type": "code",
      "source": [
        "#En este caso tendré en mente la visualización de los expuestos en clase teniendo:\n",
        "df2 = df.select(['Grade', 'Stress_Level (1-10)', 'Internet_Access_at_Home', 'Study_Hours_per_Week', 'Family_Income_Level'])\n",
        "df2\n",
        ""
      ],
      "metadata": {
        "colab": {
          "base_uri": "https://localhost:8080/",
          "height": 443
        },
        "id": "bW15QktdGlNM",
        "outputId": "9b137f8a-ff67-45f0-9ce2-8ce0094fa683"
      },
      "execution_count": 13,
      "outputs": [
        {
          "output_type": "execute_result",
          "data": {
            "text/plain": [
              "shape: (5_000, 5)\n",
              "┌───────┬─────────────────────┬───────────────────────┬──────────────────────┬─────────────────────┐\n",
              "│ Grade ┆ Stress_Level (1-10) ┆ Internet_Access_at_Ho ┆ Study_Hours_per_Week ┆ Family_Income_Level │\n",
              "│ ---   ┆ ---                 ┆ me                    ┆ ---                  ┆ ---                 │\n",
              "│ str   ┆ i64                 ┆ ---                   ┆ f64                  ┆ str                 │\n",
              "│       ┆                     ┆ str                   ┆                      ┆                     │\n",
              "╞═══════╪═════════════════════╪═══════════════════════╪══════════════════════╪═════════════════════╡\n",
              "│ F     ┆ 5                   ┆ Yes                   ┆ 6.2                  ┆ Medium              │\n",
              "│ A     ┆ 4                   ┆ Yes                   ┆ 19.0                 ┆ Medium              │\n",
              "│ D     ┆ 6                   ┆ Yes                   ┆ 20.7                 ┆ Low                 │\n",
              "│ A     ┆ 3                   ┆ Yes                   ┆ 24.8                 ┆ High                │\n",
              "│ F     ┆ 2                   ┆ Yes                   ┆ 15.4                 ┆ High                │\n",
              "│ …     ┆ …                   ┆ …                     ┆ …                    ┆ …                   │\n",
              "│ D     ┆ 10                  ┆ Yes                   ┆ 25.5                 ┆ Low                 │\n",
              "│ C     ┆ 4                   ┆ Yes                   ┆ 5.0                  ┆ Medium              │\n",
              "│ A     ┆ 4                   ┆ No                    ┆ 24.8                 ┆ Medium              │\n",
              "│ A     ┆ 1                   ┆ Yes                   ┆ 16.1                 ┆ Low                 │\n",
              "│ F     ┆ 2                   ┆ Yes                   ┆ 29.2                 ┆ Low                 │\n",
              "└───────┴─────────────────────┴───────────────────────┴──────────────────────┴─────────────────────┘"
            ],
            "text/html": [
              "<div><style>\n",
              ".dataframe > thead > tr,\n",
              ".dataframe > tbody > tr {\n",
              "  text-align: right;\n",
              "  white-space: pre-wrap;\n",
              "}\n",
              "</style>\n",
              "<small>shape: (5_000, 5)</small><table border=\"1\" class=\"dataframe\"><thead><tr><th>Grade</th><th>Stress_Level (1-10)</th><th>Internet_Access_at_Home</th><th>Study_Hours_per_Week</th><th>Family_Income_Level</th></tr><tr><td>str</td><td>i64</td><td>str</td><td>f64</td><td>str</td></tr></thead><tbody><tr><td>&quot;F&quot;</td><td>5</td><td>&quot;Yes&quot;</td><td>6.2</td><td>&quot;Medium&quot;</td></tr><tr><td>&quot;A&quot;</td><td>4</td><td>&quot;Yes&quot;</td><td>19.0</td><td>&quot;Medium&quot;</td></tr><tr><td>&quot;D&quot;</td><td>6</td><td>&quot;Yes&quot;</td><td>20.7</td><td>&quot;Low&quot;</td></tr><tr><td>&quot;A&quot;</td><td>3</td><td>&quot;Yes&quot;</td><td>24.8</td><td>&quot;High&quot;</td></tr><tr><td>&quot;F&quot;</td><td>2</td><td>&quot;Yes&quot;</td><td>15.4</td><td>&quot;High&quot;</td></tr><tr><td>&hellip;</td><td>&hellip;</td><td>&hellip;</td><td>&hellip;</td><td>&hellip;</td></tr><tr><td>&quot;D&quot;</td><td>10</td><td>&quot;Yes&quot;</td><td>25.5</td><td>&quot;Low&quot;</td></tr><tr><td>&quot;C&quot;</td><td>4</td><td>&quot;Yes&quot;</td><td>5.0</td><td>&quot;Medium&quot;</td></tr><tr><td>&quot;A&quot;</td><td>4</td><td>&quot;No&quot;</td><td>24.8</td><td>&quot;Medium&quot;</td></tr><tr><td>&quot;A&quot;</td><td>1</td><td>&quot;Yes&quot;</td><td>16.1</td><td>&quot;Low&quot;</td></tr><tr><td>&quot;F&quot;</td><td>2</td><td>&quot;Yes&quot;</td><td>29.2</td><td>&quot;Low&quot;</td></tr></tbody></table></div>"
            ]
          },
          "metadata": {},
          "execution_count": 13
        }
      ]
    },
    {
      "cell_type": "markdown",
      "source": [
        "En la parte anterior crea un nuevo DataFrame llamado df2 que selecciona únicamente un subconjunto de columnas relevantes del conjunto original. En este caso, se escogen las variables relacionadas con el rendimiento académico y su contexto:\n",
        "\n",
        "'Grade' (nota final),\n",
        "\n",
        "'Stress_Level (1-10)' (nivel de estrés),\n",
        "'Internet_Access_at_Home' (acceso a internet en casa),\n",
        "'Study_Hours_per_Week' (horas de estudio por semana) y\n",
        " 'Family_Income_Level' (nivel de ingresos familiares).\n",
        "\n",
        "  Esta selección tiene como objetivo facilitar un análisis más enfocado en los factores sociales y personales que podrían estar influyendo en las calificaciones de los estudiantes, lo cual es coherente con el enfoque explorado en clase.\n",
        "\n"
      ],
      "metadata": {
        "id": "tk4iVIV6HnvF"
      }
    },
    {
      "cell_type": "markdown",
      "source": [],
      "metadata": {
        "id": "2VRNgiwqH4it"
      }
    },
    {
      "cell_type": "code",
      "source": [
        "'''Visualizando la columna \"Family_Income_Level\" observo que existen varias etiquetas de \"Medium\" por lo que\n",
        "procederé por medio un conteo a obsrevar cuál es la frecuencia de e ste componente.'''\n",
        "\n",
        "# 1. Calcula la frecuencia absoluta (conteo de cada valor)\n",
        "frecuencia_absoluta = df2['Family_Income_Level'].value_counts()\n",
        "\n",
        "print(frecuencia_absoluta)"
      ],
      "metadata": {
        "colab": {
          "base_uri": "https://localhost:8080/"
        },
        "id": "uRaZBliBIOPH",
        "outputId": "f4f54249-90b5-4642-e7fd-1e92555db1d4"
      },
      "execution_count": 14,
      "outputs": [
        {
          "output_type": "stream",
          "name": "stdout",
          "text": [
            "shape: (3, 2)\n",
            "┌─────────────────────┬───────┐\n",
            "│ Family_Income_Level ┆ count │\n",
            "│ ---                 ┆ ---   │\n",
            "│ str                 ┆ u32   │\n",
            "╞═════════════════════╪═══════╡\n",
            "│ Medium              ┆ 1973  │\n",
            "│ Low                 ┆ 1983  │\n",
            "│ High                ┆ 1044  │\n",
            "└─────────────────────┴───────┘\n"
          ]
        }
      ]
    },
    {
      "cell_type": "markdown",
      "source": [
        "El objetivo es analizar la columna \"Family_Income_Level\" (nivel de ingresos familiares), específicamente porque \"Low\" que aparece varias veces la etiqueta al igual que  \"Medium\" y sequiere confirmar si realmente es la más frecuente. Para ello, se calcula la frecuencia absoluta, es decir, cuántas veces aparece cada categoría (como \"Low\", \"Medium\", \"High\", etc.) en esa columna.\n",
        "\n",
        "El método value_counts() cuenta cuántas veces aparece cada valor distinto en la columna 'Family_Income_Level', y print(frecuencia_absoluta) muestra ese resultado en pantalla. Esto permite saber, por ejemplo, si la mayoría de los estudiantes provienen de familias con ingresos medios, bajos o altos.\n",
        "\n"
      ],
      "metadata": {
        "id": "4YtT0kNfIXud"
      }
    },
    {
      "cell_type": "markdown",
      "source": [
        "Se observa que dentro de la variable \"Nivel de Ingreso Familiar\", la categoría \"Low\" presenta la mayor frecuencia con un total de 1983 registros, lo que indica que una proporción significativa de los estudiantes proviene de hogares con bajos ingresos. Le sigue la categoría \"Medium\" con 1973 casos, y en menor proporción, la categoría \"High\", con 1044 registros. Esta distribución se puede visualizar claramente en la siguiente gráfica, la cual permite identificar tendencias socioeconómicas predominantes en la población estudiada."
      ],
      "metadata": {
        "id": "OTSnB6LPKkit"
      }
    },
    {
      "cell_type": "code",
      "source": [
        "import plotly.express as px\n",
        "\n",
        "# Convertimos el resultado de Polars a pandas\n",
        "frecuencia_plot = frecuencia_absoluta.to_pandas()\n",
        "\n",
        "# Cambiamos el nombre de la columna automáticamente si es necesario\n",
        "frecuencia_plot.columns = ['Nivel_Ingresos', 'Frecuencia']\n",
        "\n",
        "# Gráfica de barras interactiva\n",
        "fig = px.bar(\n",
        "    frecuencia_plot,\n",
        "    x='Nivel_Ingresos',\n",
        "    y='Frecuencia',\n",
        "    title='Frecuencia de Nivel de Ingresos Familiares',\n",
        "    labels={'Frecuencia': 'Cantidad de Estudiantes', 'Nivel_Ingresos': 'Nivel de Ingresos'},\n",
        "    color='Nivel_Ingresos'\n",
        ")\n",
        "fig.show()\n"
      ],
      "metadata": {
        "colab": {
          "base_uri": "https://localhost:8080/",
          "height": 542
        },
        "id": "qKX0XN0bKOYG",
        "outputId": "0e5b4d2c-9bea-40e2-c1ef-1a917cb41f93"
      },
      "execution_count": 17,
      "outputs": [
        {
          "output_type": "display_data",
          "data": {
            "text/html": [
              "<html>\n",
              "<head><meta charset=\"utf-8\" /></head>\n",
              "<body>\n",
              "    <div>            <script src=\"https://cdnjs.cloudflare.com/ajax/libs/mathjax/2.7.5/MathJax.js?config=TeX-AMS-MML_SVG\"></script><script type=\"text/javascript\">if (window.MathJax && window.MathJax.Hub && window.MathJax.Hub.Config) {window.MathJax.Hub.Config({SVG: {font: \"STIX-Web\"}});}</script>                <script type=\"text/javascript\">window.PlotlyConfig = {MathJaxConfig: 'local'};</script>\n",
              "        <script charset=\"utf-8\" src=\"https://cdn.plot.ly/plotly-2.35.2.min.js\"></script>                <div id=\"35d71f00-a967-4e6d-8256-6ff26c515731\" class=\"plotly-graph-div\" style=\"height:525px; width:100%;\"></div>            <script type=\"text/javascript\">                                    window.PLOTLYENV=window.PLOTLYENV || {};                                    if (document.getElementById(\"35d71f00-a967-4e6d-8256-6ff26c515731\")) {                    Plotly.newPlot(                        \"35d71f00-a967-4e6d-8256-6ff26c515731\",                        [{\"alignmentgroup\":\"True\",\"hovertemplate\":\"Nivel de Ingresos=%{x}\\u003cbr\\u003eCantidad de Estudiantes=%{y}\\u003cextra\\u003e\\u003c\\u002fextra\\u003e\",\"legendgroup\":\"Medium\",\"marker\":{\"color\":\"#636efa\",\"pattern\":{\"shape\":\"\"}},\"name\":\"Medium\",\"offsetgroup\":\"Medium\",\"orientation\":\"v\",\"showlegend\":true,\"textposition\":\"auto\",\"x\":[\"Medium\"],\"xaxis\":\"x\",\"y\":[1973],\"yaxis\":\"y\",\"type\":\"bar\"},{\"alignmentgroup\":\"True\",\"hovertemplate\":\"Nivel de Ingresos=%{x}\\u003cbr\\u003eCantidad de Estudiantes=%{y}\\u003cextra\\u003e\\u003c\\u002fextra\\u003e\",\"legendgroup\":\"Low\",\"marker\":{\"color\":\"#EF553B\",\"pattern\":{\"shape\":\"\"}},\"name\":\"Low\",\"offsetgroup\":\"Low\",\"orientation\":\"v\",\"showlegend\":true,\"textposition\":\"auto\",\"x\":[\"Low\"],\"xaxis\":\"x\",\"y\":[1983],\"yaxis\":\"y\",\"type\":\"bar\"},{\"alignmentgroup\":\"True\",\"hovertemplate\":\"Nivel de Ingresos=%{x}\\u003cbr\\u003eCantidad de Estudiantes=%{y}\\u003cextra\\u003e\\u003c\\u002fextra\\u003e\",\"legendgroup\":\"High\",\"marker\":{\"color\":\"#00cc96\",\"pattern\":{\"shape\":\"\"}},\"name\":\"High\",\"offsetgroup\":\"High\",\"orientation\":\"v\",\"showlegend\":true,\"textposition\":\"auto\",\"x\":[\"High\"],\"xaxis\":\"x\",\"y\":[1044],\"yaxis\":\"y\",\"type\":\"bar\"}],                        {\"template\":{\"data\":{\"histogram2dcontour\":[{\"type\":\"histogram2dcontour\",\"colorbar\":{\"outlinewidth\":0,\"ticks\":\"\"},\"colorscale\":[[0.0,\"#0d0887\"],[0.1111111111111111,\"#46039f\"],[0.2222222222222222,\"#7201a8\"],[0.3333333333333333,\"#9c179e\"],[0.4444444444444444,\"#bd3786\"],[0.5555555555555556,\"#d8576b\"],[0.6666666666666666,\"#ed7953\"],[0.7777777777777778,\"#fb9f3a\"],[0.8888888888888888,\"#fdca26\"],[1.0,\"#f0f921\"]]}],\"choropleth\":[{\"type\":\"choropleth\",\"colorbar\":{\"outlinewidth\":0,\"ticks\":\"\"}}],\"histogram2d\":[{\"type\":\"histogram2d\",\"colorbar\":{\"outlinewidth\":0,\"ticks\":\"\"},\"colorscale\":[[0.0,\"#0d0887\"],[0.1111111111111111,\"#46039f\"],[0.2222222222222222,\"#7201a8\"],[0.3333333333333333,\"#9c179e\"],[0.4444444444444444,\"#bd3786\"],[0.5555555555555556,\"#d8576b\"],[0.6666666666666666,\"#ed7953\"],[0.7777777777777778,\"#fb9f3a\"],[0.8888888888888888,\"#fdca26\"],[1.0,\"#f0f921\"]]}],\"heatmap\":[{\"type\":\"heatmap\",\"colorbar\":{\"outlinewidth\":0,\"ticks\":\"\"},\"colorscale\":[[0.0,\"#0d0887\"],[0.1111111111111111,\"#46039f\"],[0.2222222222222222,\"#7201a8\"],[0.3333333333333333,\"#9c179e\"],[0.4444444444444444,\"#bd3786\"],[0.5555555555555556,\"#d8576b\"],[0.6666666666666666,\"#ed7953\"],[0.7777777777777778,\"#fb9f3a\"],[0.8888888888888888,\"#fdca26\"],[1.0,\"#f0f921\"]]}],\"heatmapgl\":[{\"type\":\"heatmapgl\",\"colorbar\":{\"outlinewidth\":0,\"ticks\":\"\"},\"colorscale\":[[0.0,\"#0d0887\"],[0.1111111111111111,\"#46039f\"],[0.2222222222222222,\"#7201a8\"],[0.3333333333333333,\"#9c179e\"],[0.4444444444444444,\"#bd3786\"],[0.5555555555555556,\"#d8576b\"],[0.6666666666666666,\"#ed7953\"],[0.7777777777777778,\"#fb9f3a\"],[0.8888888888888888,\"#fdca26\"],[1.0,\"#f0f921\"]]}],\"contourcarpet\":[{\"type\":\"contourcarpet\",\"colorbar\":{\"outlinewidth\":0,\"ticks\":\"\"}}],\"contour\":[{\"type\":\"contour\",\"colorbar\":{\"outlinewidth\":0,\"ticks\":\"\"},\"colorscale\":[[0.0,\"#0d0887\"],[0.1111111111111111,\"#46039f\"],[0.2222222222222222,\"#7201a8\"],[0.3333333333333333,\"#9c179e\"],[0.4444444444444444,\"#bd3786\"],[0.5555555555555556,\"#d8576b\"],[0.6666666666666666,\"#ed7953\"],[0.7777777777777778,\"#fb9f3a\"],[0.8888888888888888,\"#fdca26\"],[1.0,\"#f0f921\"]]}],\"surface\":[{\"type\":\"surface\",\"colorbar\":{\"outlinewidth\":0,\"ticks\":\"\"},\"colorscale\":[[0.0,\"#0d0887\"],[0.1111111111111111,\"#46039f\"],[0.2222222222222222,\"#7201a8\"],[0.3333333333333333,\"#9c179e\"],[0.4444444444444444,\"#bd3786\"],[0.5555555555555556,\"#d8576b\"],[0.6666666666666666,\"#ed7953\"],[0.7777777777777778,\"#fb9f3a\"],[0.8888888888888888,\"#fdca26\"],[1.0,\"#f0f921\"]]}],\"mesh3d\":[{\"type\":\"mesh3d\",\"colorbar\":{\"outlinewidth\":0,\"ticks\":\"\"}}],\"scatter\":[{\"fillpattern\":{\"fillmode\":\"overlay\",\"size\":10,\"solidity\":0.2},\"type\":\"scatter\"}],\"parcoords\":[{\"type\":\"parcoords\",\"line\":{\"colorbar\":{\"outlinewidth\":0,\"ticks\":\"\"}}}],\"scatterpolargl\":[{\"type\":\"scatterpolargl\",\"marker\":{\"colorbar\":{\"outlinewidth\":0,\"ticks\":\"\"}}}],\"bar\":[{\"error_x\":{\"color\":\"#2a3f5f\"},\"error_y\":{\"color\":\"#2a3f5f\"},\"marker\":{\"line\":{\"color\":\"#E5ECF6\",\"width\":0.5},\"pattern\":{\"fillmode\":\"overlay\",\"size\":10,\"solidity\":0.2}},\"type\":\"bar\"}],\"scattergeo\":[{\"type\":\"scattergeo\",\"marker\":{\"colorbar\":{\"outlinewidth\":0,\"ticks\":\"\"}}}],\"scatterpolar\":[{\"type\":\"scatterpolar\",\"marker\":{\"colorbar\":{\"outlinewidth\":0,\"ticks\":\"\"}}}],\"histogram\":[{\"marker\":{\"pattern\":{\"fillmode\":\"overlay\",\"size\":10,\"solidity\":0.2}},\"type\":\"histogram\"}],\"scattergl\":[{\"type\":\"scattergl\",\"marker\":{\"colorbar\":{\"outlinewidth\":0,\"ticks\":\"\"}}}],\"scatter3d\":[{\"type\":\"scatter3d\",\"line\":{\"colorbar\":{\"outlinewidth\":0,\"ticks\":\"\"}},\"marker\":{\"colorbar\":{\"outlinewidth\":0,\"ticks\":\"\"}}}],\"scattermapbox\":[{\"type\":\"scattermapbox\",\"marker\":{\"colorbar\":{\"outlinewidth\":0,\"ticks\":\"\"}}}],\"scatterternary\":[{\"type\":\"scatterternary\",\"marker\":{\"colorbar\":{\"outlinewidth\":0,\"ticks\":\"\"}}}],\"scattercarpet\":[{\"type\":\"scattercarpet\",\"marker\":{\"colorbar\":{\"outlinewidth\":0,\"ticks\":\"\"}}}],\"carpet\":[{\"aaxis\":{\"endlinecolor\":\"#2a3f5f\",\"gridcolor\":\"white\",\"linecolor\":\"white\",\"minorgridcolor\":\"white\",\"startlinecolor\":\"#2a3f5f\"},\"baxis\":{\"endlinecolor\":\"#2a3f5f\",\"gridcolor\":\"white\",\"linecolor\":\"white\",\"minorgridcolor\":\"white\",\"startlinecolor\":\"#2a3f5f\"},\"type\":\"carpet\"}],\"table\":[{\"cells\":{\"fill\":{\"color\":\"#EBF0F8\"},\"line\":{\"color\":\"white\"}},\"header\":{\"fill\":{\"color\":\"#C8D4E3\"},\"line\":{\"color\":\"white\"}},\"type\":\"table\"}],\"barpolar\":[{\"marker\":{\"line\":{\"color\":\"#E5ECF6\",\"width\":0.5},\"pattern\":{\"fillmode\":\"overlay\",\"size\":10,\"solidity\":0.2}},\"type\":\"barpolar\"}],\"pie\":[{\"automargin\":true,\"type\":\"pie\"}]},\"layout\":{\"autotypenumbers\":\"strict\",\"colorway\":[\"#636efa\",\"#EF553B\",\"#00cc96\",\"#ab63fa\",\"#FFA15A\",\"#19d3f3\",\"#FF6692\",\"#B6E880\",\"#FF97FF\",\"#FECB52\"],\"font\":{\"color\":\"#2a3f5f\"},\"hovermode\":\"closest\",\"hoverlabel\":{\"align\":\"left\"},\"paper_bgcolor\":\"white\",\"plot_bgcolor\":\"#E5ECF6\",\"polar\":{\"bgcolor\":\"#E5ECF6\",\"angularaxis\":{\"gridcolor\":\"white\",\"linecolor\":\"white\",\"ticks\":\"\"},\"radialaxis\":{\"gridcolor\":\"white\",\"linecolor\":\"white\",\"ticks\":\"\"}},\"ternary\":{\"bgcolor\":\"#E5ECF6\",\"aaxis\":{\"gridcolor\":\"white\",\"linecolor\":\"white\",\"ticks\":\"\"},\"baxis\":{\"gridcolor\":\"white\",\"linecolor\":\"white\",\"ticks\":\"\"},\"caxis\":{\"gridcolor\":\"white\",\"linecolor\":\"white\",\"ticks\":\"\"}},\"coloraxis\":{\"colorbar\":{\"outlinewidth\":0,\"ticks\":\"\"}},\"colorscale\":{\"sequential\":[[0.0,\"#0d0887\"],[0.1111111111111111,\"#46039f\"],[0.2222222222222222,\"#7201a8\"],[0.3333333333333333,\"#9c179e\"],[0.4444444444444444,\"#bd3786\"],[0.5555555555555556,\"#d8576b\"],[0.6666666666666666,\"#ed7953\"],[0.7777777777777778,\"#fb9f3a\"],[0.8888888888888888,\"#fdca26\"],[1.0,\"#f0f921\"]],\"sequentialminus\":[[0.0,\"#0d0887\"],[0.1111111111111111,\"#46039f\"],[0.2222222222222222,\"#7201a8\"],[0.3333333333333333,\"#9c179e\"],[0.4444444444444444,\"#bd3786\"],[0.5555555555555556,\"#d8576b\"],[0.6666666666666666,\"#ed7953\"],[0.7777777777777778,\"#fb9f3a\"],[0.8888888888888888,\"#fdca26\"],[1.0,\"#f0f921\"]],\"diverging\":[[0,\"#8e0152\"],[0.1,\"#c51b7d\"],[0.2,\"#de77ae\"],[0.3,\"#f1b6da\"],[0.4,\"#fde0ef\"],[0.5,\"#f7f7f7\"],[0.6,\"#e6f5d0\"],[0.7,\"#b8e186\"],[0.8,\"#7fbc41\"],[0.9,\"#4d9221\"],[1,\"#276419\"]]},\"xaxis\":{\"gridcolor\":\"white\",\"linecolor\":\"white\",\"ticks\":\"\",\"title\":{\"standoff\":15},\"zerolinecolor\":\"white\",\"automargin\":true,\"zerolinewidth\":2},\"yaxis\":{\"gridcolor\":\"white\",\"linecolor\":\"white\",\"ticks\":\"\",\"title\":{\"standoff\":15},\"zerolinecolor\":\"white\",\"automargin\":true,\"zerolinewidth\":2},\"scene\":{\"xaxis\":{\"backgroundcolor\":\"#E5ECF6\",\"gridcolor\":\"white\",\"linecolor\":\"white\",\"showbackground\":true,\"ticks\":\"\",\"zerolinecolor\":\"white\",\"gridwidth\":2},\"yaxis\":{\"backgroundcolor\":\"#E5ECF6\",\"gridcolor\":\"white\",\"linecolor\":\"white\",\"showbackground\":true,\"ticks\":\"\",\"zerolinecolor\":\"white\",\"gridwidth\":2},\"zaxis\":{\"backgroundcolor\":\"#E5ECF6\",\"gridcolor\":\"white\",\"linecolor\":\"white\",\"showbackground\":true,\"ticks\":\"\",\"zerolinecolor\":\"white\",\"gridwidth\":2}},\"shapedefaults\":{\"line\":{\"color\":\"#2a3f5f\"}},\"annotationdefaults\":{\"arrowcolor\":\"#2a3f5f\",\"arrowhead\":0,\"arrowwidth\":1},\"geo\":{\"bgcolor\":\"white\",\"landcolor\":\"#E5ECF6\",\"subunitcolor\":\"white\",\"showland\":true,\"showlakes\":true,\"lakecolor\":\"white\"},\"title\":{\"x\":0.05},\"mapbox\":{\"style\":\"light\"}}},\"xaxis\":{\"anchor\":\"y\",\"domain\":[0.0,1.0],\"title\":{\"text\":\"Nivel de Ingresos\"},\"categoryorder\":\"array\",\"categoryarray\":[\"Medium\",\"Low\",\"High\"]},\"yaxis\":{\"anchor\":\"x\",\"domain\":[0.0,1.0],\"title\":{\"text\":\"Cantidad de Estudiantes\"}},\"legend\":{\"title\":{\"text\":\"Nivel de Ingresos\"},\"tracegroupgap\":0},\"title\":{\"text\":\"Frecuencia de Nivel de Ingresos Familiares\"},\"barmode\":\"relative\"},                        {\"responsive\": true}                    ).then(function(){\n",
              "                            \n",
              "var gd = document.getElementById('35d71f00-a967-4e6d-8256-6ff26c515731');\n",
              "var x = new MutationObserver(function (mutations, observer) {{\n",
              "        var display = window.getComputedStyle(gd).display;\n",
              "        if (!display || display === 'none') {{\n",
              "            console.log([gd, 'removed!']);\n",
              "            Plotly.purge(gd);\n",
              "            observer.disconnect();\n",
              "        }}\n",
              "}});\n",
              "\n",
              "// Listen for the removal of the full notebook cells\n",
              "var notebookContainer = gd.closest('#notebook-container');\n",
              "if (notebookContainer) {{\n",
              "    x.observe(notebookContainer, {childList: true});\n",
              "}}\n",
              "\n",
              "// Listen for the clearing of the current output cell\n",
              "var outputEl = gd.closest('.output');\n",
              "if (outputEl) {{\n",
              "    x.observe(outputEl, {childList: true});\n",
              "}}\n",
              "\n",
              "                        })                };                            </script>        </div>\n",
              "</body>\n",
              "</html>"
            ]
          },
          "metadata": {}
        }
      ]
    },
    {
      "cell_type": "code",
      "source": [],
      "metadata": {
        "id": "f4L0vMQaKoyW"
      },
      "execution_count": null,
      "outputs": []
    },
    {
      "cell_type": "markdown",
      "source": [
        "Ahora procederé con el análisis detallado de los niveles de recursos familiares, desglosando la variable \"Nivel de Ingreso Familiar\" para obtener una comprensión más profunda de la distribución de estos recursos entre los estudiantes. Este desglose se llevará a cabo conforme a los parámetros discutidos en clase, lo que permitirá un análisis más completo de las características socioeconómicas de los estudiantes y su posible influencia en su rendimiento académico."
      ],
      "metadata": {
        "id": "QQ1qHccUK2J3"
      }
    },
    {
      "cell_type": "code",
      "source": [
        "import polars as pl\n",
        "\n",
        "# 1. Cargar el archivo CSV original\n",
        "df = pl.read_csv(\"Students_Grading_Dataset_Biased.csv\")\n",
        "\n",
        "# 2. Seleccionar columnas relevantes para el análisis social-académico\n",
        "df2 = df.select([\n",
        "    'Grade',\n",
        "    'Stress_Level (1-10)',\n",
        "    'Internet_Access_at_Home',\n",
        "    'Study_Hours_per_Week',\n",
        "    'Family_Income_Level'\n",
        "])\n",
        "\n",
        "# 3. Renombrar columnas a español para mayor claridad\n",
        "df2 = df2.rename({\n",
        "    'Grade': 'Nota_Final',\n",
        "    'Stress_Level (1-10)': 'Nivel_Estres',\n",
        "    'Internet_Access_at_Home': 'Internet_en_Casa',\n",
        "    'Study_Hours_per_Week': 'Horas_Estudio_Semana',\n",
        "    'Family_Income_Level': 'Nivel_Ingresos'\n",
        "})\n",
        "\n",
        "# 4. Define los niveles de ingresos en orden\n",
        "income_levels = [\"Low\", \"Medium\", \"High\"]\n",
        "\n",
        "# 5. Crear las columnas de One-Hot Encoding para los niveles de ingresos\n",
        "df3 = df2.with_columns([\n",
        "    (df2[\"Nivel_Ingresos\"].is_in(income_levels[i:])).cast(pl.Int8).alias(f\"Ingreso_{level}\")\n",
        "    for i, level in enumerate(income_levels)\n",
        "])\n",
        "\n",
        "# 6. Opcional: Eliminar la columna original 'Nivel_Ingresos' si ya no es necesaria\n",
        "# df3 = df3.drop(\"Nivel_Ingresos\")\n",
        "\n",
        "# 7. Visualizar las primeras filas del DataFrame transformado\n",
        "print(df3.head())\n",
        "\n",
        "# 8. Mostrar la estructura del DataFrame (tipos de columnas)\n",
        "print(df3.schema)\n"
      ],
      "metadata": {
        "colab": {
          "base_uri": "https://localhost:8080/"
        },
        "id": "vUF7Eqz2K4IO",
        "outputId": "133c1338-c0de-4797-c898-4983a1a456bb"
      },
      "execution_count": 18,
      "outputs": [
        {
          "output_type": "stream",
          "name": "stdout",
          "text": [
            "shape: (5, 8)\n",
            "┌────────────┬────────────┬────────────┬───────────┬───────────┬───────────┬───────────┬───────────┐\n",
            "│ Nota_Final ┆ Nivel_Estr ┆ Internet_e ┆ Horas_Est ┆ Nivel_Ing ┆ Ingreso_L ┆ Ingreso_M ┆ Ingreso_H │\n",
            "│ ---        ┆ es         ┆ n_Casa     ┆ udio_Sema ┆ resos     ┆ ow        ┆ edium     ┆ igh       │\n",
            "│ str        ┆ ---        ┆ ---        ┆ na        ┆ ---       ┆ ---       ┆ ---       ┆ ---       │\n",
            "│            ┆ i64        ┆ str        ┆ ---       ┆ str       ┆ i8        ┆ i8        ┆ i8        │\n",
            "│            ┆            ┆            ┆ f64       ┆           ┆           ┆           ┆           │\n",
            "╞════════════╪════════════╪════════════╪═══════════╪═══════════╪═══════════╪═══════════╪═══════════╡\n",
            "│ F          ┆ 5          ┆ Yes        ┆ 6.2       ┆ Medium    ┆ 1         ┆ 1         ┆ 0         │\n",
            "│ A          ┆ 4          ┆ Yes        ┆ 19.0      ┆ Medium    ┆ 1         ┆ 1         ┆ 0         │\n",
            "│ D          ┆ 6          ┆ Yes        ┆ 20.7      ┆ Low       ┆ 1         ┆ 0         ┆ 0         │\n",
            "│ A          ┆ 3          ┆ Yes        ┆ 24.8      ┆ High      ┆ 1         ┆ 1         ┆ 1         │\n",
            "│ F          ┆ 2          ┆ Yes        ┆ 15.4      ┆ High      ┆ 1         ┆ 1         ┆ 1         │\n",
            "└────────────┴────────────┴────────────┴───────────┴───────────┴───────────┴───────────┴───────────┘\n",
            "Schema([('Nota_Final', String), ('Nivel_Estres', Int64), ('Internet_en_Casa', String), ('Horas_Estudio_Semana', Float64), ('Nivel_Ingresos', String), ('Ingreso_Low', Int8), ('Ingreso_Medium', Int8), ('Ingreso_High', Int8)])\n"
          ]
        }
      ]
    },
    {
      "cell_type": "markdown",
      "source": [
        "EL CODIGO DEFINE :\n",
        "\n",
        "Define los niveles de ingresos en orden: \"Low\", \"Medium\", y \"High\".\n",
        "\n",
        "Genera una nueva columna para cada nivel de ingreso utilizando la función is_in, que verifica si el valor de la columna \"Family_Income_Level\" pertenece a uno de los niveles especificados (de manera acumulativa). Por ejemplo:\n",
        "\n",
        "Para \"Low\", la columna será 1 si el valor es \"Low\" o si es \"Medium\" o \"High\", pero como es acumulativa, se genera una columna distinta para cada nivel de ingreso.\n",
        "\n",
        "Se usa cast(pl.Int8) para convertir el resultado en valores binarios (0 o 1), como es habitual en One-Hot Encoding.\n",
        "\n",
        "El alias cambia los nombres de las nuevas columnas a algo más descriptivo, como Income_Low, Income_Medium, e Income_High.\n",
        "\n",
        "Se imprime el resultado de df3.head() para visualizar las primeras filas del DataFrame transformado y df3.schema para verificar el tipo de datos de cada columna."
      ],
      "metadata": {
        "id": "SU1OOS-2LpVm"
      }
    },
    {
      "cell_type": "code",
      "source": [],
      "metadata": {
        "id": "L3QPXHsEMNj3"
      },
      "execution_count": null,
      "outputs": []
    },
    {
      "cell_type": "code",
      "source": [
        "print(df3.head())\n",
        "df3.schema"
      ],
      "metadata": {
        "colab": {
          "base_uri": "https://localhost:8080/"
        },
        "id": "LJ6hD5LkMjfg",
        "outputId": "ccaa033a-4a2f-478f-9ea7-5979986e158c"
      },
      "execution_count": 20,
      "outputs": [
        {
          "output_type": "stream",
          "name": "stdout",
          "text": [
            "shape: (5, 8)\n",
            "┌────────────┬────────────┬────────────┬───────────┬───────────┬───────────┬───────────┬───────────┐\n",
            "│ Nota_Final ┆ Nivel_Estr ┆ Internet_e ┆ Horas_Est ┆ Nivel_Ing ┆ Ingreso_L ┆ Ingreso_M ┆ Ingreso_H │\n",
            "│ ---        ┆ es         ┆ n_Casa     ┆ udio_Sema ┆ resos     ┆ ow        ┆ edium     ┆ igh       │\n",
            "│ str        ┆ ---        ┆ ---        ┆ na        ┆ ---       ┆ ---       ┆ ---       ┆ ---       │\n",
            "│            ┆ i64        ┆ str        ┆ ---       ┆ str       ┆ i8        ┆ i8        ┆ i8        │\n",
            "│            ┆            ┆            ┆ f64       ┆           ┆           ┆           ┆           │\n",
            "╞════════════╪════════════╪════════════╪═══════════╪═══════════╪═══════════╪═══════════╪═══════════╡\n",
            "│ F          ┆ 5          ┆ Yes        ┆ 6.2       ┆ Medium    ┆ 1         ┆ 1         ┆ 0         │\n",
            "│ A          ┆ 4          ┆ Yes        ┆ 19.0      ┆ Medium    ┆ 1         ┆ 1         ┆ 0         │\n",
            "│ D          ┆ 6          ┆ Yes        ┆ 20.7      ┆ Low       ┆ 1         ┆ 0         ┆ 0         │\n",
            "│ A          ┆ 3          ┆ Yes        ┆ 24.8      ┆ High      ┆ 1         ┆ 1         ┆ 1         │\n",
            "│ F          ┆ 2          ┆ Yes        ┆ 15.4      ┆ High      ┆ 1         ┆ 1         ┆ 1         │\n",
            "└────────────┴────────────┴────────────┴───────────┴───────────┴───────────┴───────────┴───────────┘\n"
          ]
        },
        {
          "output_type": "execute_result",
          "data": {
            "text/plain": [
              "Schema([('Nota_Final', String),\n",
              "        ('Nivel_Estres', Int64),\n",
              "        ('Internet_en_Casa', String),\n",
              "        ('Horas_Estudio_Semana', Float64),\n",
              "        ('Nivel_Ingresos', String),\n",
              "        ('Ingreso_Low', Int8),\n",
              "        ('Ingreso_Medium', Int8),\n",
              "        ('Ingreso_High', Int8)])"
            ]
          },
          "metadata": {},
          "execution_count": 20
        }
      ]
    },
    {
      "cell_type": "code",
      "source": [
        "import polars as pl\n",
        "\n",
        "# Cargar datos\n",
        "df = pl.read_csv(\"Students_Grading_Dataset_Biased.csv\")\n",
        "\n",
        "# Selección de columnas clave\n",
        "df2 = df.select([\n",
        "    pl.col(\"Grade\").alias(\"Nota_Final\"),\n",
        "    pl.col(\"Stress_Level (1-10)\").alias(\"Nivel_Estres\"),\n",
        "    pl.col(\"Internet_Access_at_Home\").alias(\"Internet_en_Casa\"),\n",
        "    pl.col(\"Study_Hours_per_Week\").alias(\"Horas_Estudio_Semana\"),\n",
        "    pl.col(\"Family_Income_Level\").alias(\"Nivel_Ingresos\")\n",
        "])\n",
        "\n",
        "# Codificación One-Hot acumulativa\n",
        "niveles = [\"Low\", \"Medium\", \"High\"]\n",
        "df3 = df2.with_columns([\n",
        "    (df2[\"Nivel_Ingresos\"].is_in(niveles[i:])).cast(pl.Int8).alias(f\"Income_{nivel}\")\n",
        "    for i, nivel in enumerate(niveles)\n",
        "])\n",
        "\n",
        "# Verificamos las columnas necesarias\n",
        "print(df3.select([\"Nivel_Ingresos\", \"Income_Low\", \"Income_Medium\", \"Income_High\"]).head())\n",
        "\n"
      ],
      "metadata": {
        "colab": {
          "base_uri": "https://localhost:8080/"
        },
        "id": "XjBRZZwYNapv",
        "outputId": "6fe37ffe-373b-47ee-acf6-433444342f85"
      },
      "execution_count": 25,
      "outputs": [
        {
          "output_type": "stream",
          "name": "stdout",
          "text": [
            "shape: (5, 4)\n",
            "┌────────────────┬────────────┬───────────────┬─────────────┐\n",
            "│ Nivel_Ingresos ┆ Income_Low ┆ Income_Medium ┆ Income_High │\n",
            "│ ---            ┆ ---        ┆ ---           ┆ ---         │\n",
            "│ str            ┆ i8         ┆ i8            ┆ i8          │\n",
            "╞════════════════╪════════════╪═══════════════╪═════════════╡\n",
            "│ Medium         ┆ 1          ┆ 1             ┆ 0           │\n",
            "│ Medium         ┆ 1          ┆ 1             ┆ 0           │\n",
            "│ Low            ┆ 1          ┆ 0             ┆ 0           │\n",
            "│ High           ┆ 1          ┆ 1             ┆ 1           │\n",
            "│ High           ┆ 1          ┆ 1             ┆ 1           │\n",
            "└────────────────┴────────────┴───────────────┴─────────────┘\n"
          ]
        }
      ]
    },
    {
      "cell_type": "markdown",
      "source": [
        "En este apartado, utilizaré la función hstack() para realizar un apilamiento horizontal, lo cual permite concatenar las columnas del DataFrame original df3 con las nuevas columnas generadas mediante variables dummy correspondientes a la variable Grade. El resultado se almacena en df4, que contiene tanto las columnas originales de df3 como las columnas adicionales codificadas de manera binaria según los niveles de calificación"
      ],
      "metadata": {
        "id": "RmWdVbATOAhA"
      }
    },
    {
      "cell_type": "code",
      "source": [
        "df3.group_by(\"Nivel_Ingresos\").agg([\n",
        "    pl.col(\"Nota_Final\").mean().alias(\"Promedio_Nota\"),\n",
        "    pl.col(\"Nivel_Estres\").mean().alias(\"Promedio_Estres\"),\n",
        "    pl.col(\"Horas_Estudio_Semana\").mean().alias(\"Promedio_Horas_Estudio\")\n",
        "])\n"
      ],
      "metadata": {
        "colab": {
          "base_uri": "https://localhost:8080/",
          "height": 192
        },
        "id": "j0D5CGgJOlja",
        "outputId": "ba79bc37-5cd8-4e9f-c632-561dd1357efc"
      },
      "execution_count": 29,
      "outputs": [
        {
          "output_type": "execute_result",
          "data": {
            "text/plain": [
              "shape: (3, 4)\n",
              "┌────────────────┬───────────────┬─────────────────┬────────────────────────┐\n",
              "│ Nivel_Ingresos ┆ Promedio_Nota ┆ Promedio_Estres ┆ Promedio_Horas_Estudio │\n",
              "│ ---            ┆ ---           ┆ ---             ┆ ---                    │\n",
              "│ str            ┆ str           ┆ f64             ┆ f64                    │\n",
              "╞════════════════╪═══════════════╪═════════════════╪════════════════════════╡\n",
              "│ Low            ┆ null          ┆ 5.422088        ┆ 17.691528              │\n",
              "│ Medium         ┆ null          ┆ 5.549417        ┆ 17.410492              │\n",
              "│ High           ┆ null          ┆ 5.462644        ┆ 18.066188              │\n",
              "└────────────────┴───────────────┴─────────────────┴────────────────────────┘"
            ],
            "text/html": [
              "<div><style>\n",
              ".dataframe > thead > tr,\n",
              ".dataframe > tbody > tr {\n",
              "  text-align: right;\n",
              "  white-space: pre-wrap;\n",
              "}\n",
              "</style>\n",
              "<small>shape: (3, 4)</small><table border=\"1\" class=\"dataframe\"><thead><tr><th>Nivel_Ingresos</th><th>Promedio_Nota</th><th>Promedio_Estres</th><th>Promedio_Horas_Estudio</th></tr><tr><td>str</td><td>str</td><td>f64</td><td>f64</td></tr></thead><tbody><tr><td>&quot;Low&quot;</td><td>null</td><td>5.422088</td><td>17.691528</td></tr><tr><td>&quot;Medium&quot;</td><td>null</td><td>5.549417</td><td>17.410492</td></tr><tr><td>&quot;High&quot;</td><td>null</td><td>5.462644</td><td>18.066188</td></tr></tbody></table></div>"
            ]
          },
          "metadata": {},
          "execution_count": 29
        }
      ]
    },
    {
      "cell_type": "markdown",
      "source": [
        "Podemos ver, por ejemplo, cómo se relaciona el ingreso con la nota final o el nivel de estrés, usando agrupaciones o promedios por nivel de ingreso.\n",
        "\n",
        "Esto nos permite decir cosas como: \"los estudiantes con ingresos bajos tienen, en promedio, un mayor nivel de estrés y menor nota final.\""
      ],
      "metadata": {
        "id": "Dgz8q0u1OqKH"
      }
    },
    {
      "cell_type": "code",
      "source": [
        "import pandas as pd\n",
        "import plotly.express as px\n",
        "\n",
        "# Convertimos el dataframe de Polars a pandas\n",
        "df_pandas = df3.to_pandas()\n",
        "\n",
        "# Agrupar por nivel de ingreso y nivel de estrés\n",
        "stack_data = df_pandas.groupby(['Nivel_Ingresos', 'Nivel_Estres']).size().reset_index(name='Cantidad')\n",
        "\n",
        "# Crear gráfica de barras apiladas\n",
        "fig = px.bar(\n",
        "    stack_data,\n",
        "    x=\"Nivel_Ingresos\",\n",
        "    y=\"Cantidad\",\n",
        "    color=\"Nivel_Estres\",\n",
        "    title=\"Estudiantes por Nivel de Ingreso y Nivel de Estrés\",\n",
        "    labels={\"Cantidad\": \"Cantidad de Estudiantes\", \"Nivel_Ingresos\": \"Nivel de Ingreso\"}\n",
        ")\n",
        "fig.show()\n"
      ],
      "metadata": {
        "colab": {
          "base_uri": "https://localhost:8080/",
          "height": 542
        },
        "id": "M0WSBKGNO_Zp",
        "outputId": "0b8d9a5f-506d-43b3-ee61-4e28bd1e95a5"
      },
      "execution_count": 30,
      "outputs": [
        {
          "output_type": "display_data",
          "data": {
            "text/html": [
              "<html>\n",
              "<head><meta charset=\"utf-8\" /></head>\n",
              "<body>\n",
              "    <div>            <script src=\"https://cdnjs.cloudflare.com/ajax/libs/mathjax/2.7.5/MathJax.js?config=TeX-AMS-MML_SVG\"></script><script type=\"text/javascript\">if (window.MathJax && window.MathJax.Hub && window.MathJax.Hub.Config) {window.MathJax.Hub.Config({SVG: {font: \"STIX-Web\"}});}</script>                <script type=\"text/javascript\">window.PlotlyConfig = {MathJaxConfig: 'local'};</script>\n",
              "        <script charset=\"utf-8\" src=\"https://cdn.plot.ly/plotly-2.35.2.min.js\"></script>                <div id=\"d5a9639c-8a81-47cb-83cc-9121a4bf78fa\" class=\"plotly-graph-div\" style=\"height:525px; width:100%;\"></div>            <script type=\"text/javascript\">                                    window.PLOTLYENV=window.PLOTLYENV || {};                                    if (document.getElementById(\"d5a9639c-8a81-47cb-83cc-9121a4bf78fa\")) {                    Plotly.newPlot(                        \"d5a9639c-8a81-47cb-83cc-9121a4bf78fa\",                        [{\"alignmentgroup\":\"True\",\"hovertemplate\":\"Nivel de Ingreso=%{x}\\u003cbr\\u003eCantidad de Estudiantes=%{y}\\u003cbr\\u003eNivel_Estres=%{marker.color}\\u003cextra\\u003e\\u003c\\u002fextra\\u003e\",\"legendgroup\":\"\",\"marker\":{\"color\":[1,2,3,4,5,6,7,8,9,10,1,2,3,4,5,6,7,8,9,10,1,2,3,4,5,6,7,8,9,10],\"coloraxis\":\"coloraxis\",\"pattern\":{\"shape\":\"\"}},\"name\":\"\",\"offsetgroup\":\"\",\"orientation\":\"v\",\"showlegend\":false,\"textposition\":\"auto\",\"x\":[\"High\",\"High\",\"High\",\"High\",\"High\",\"High\",\"High\",\"High\",\"High\",\"High\",\"Low\",\"Low\",\"Low\",\"Low\",\"Low\",\"Low\",\"Low\",\"Low\",\"Low\",\"Low\",\"Medium\",\"Medium\",\"Medium\",\"Medium\",\"Medium\",\"Medium\",\"Medium\",\"Medium\",\"Medium\",\"Medium\"],\"xaxis\":\"x\",\"y\":[91,118,123,106,99,89,105,105,101,107,211,199,193,216,210,185,184,204,190,191,187,187,193,211,186,207,200,215,197,190],\"yaxis\":\"y\",\"type\":\"bar\"}],                        {\"template\":{\"data\":{\"histogram2dcontour\":[{\"type\":\"histogram2dcontour\",\"colorbar\":{\"outlinewidth\":0,\"ticks\":\"\"},\"colorscale\":[[0.0,\"#0d0887\"],[0.1111111111111111,\"#46039f\"],[0.2222222222222222,\"#7201a8\"],[0.3333333333333333,\"#9c179e\"],[0.4444444444444444,\"#bd3786\"],[0.5555555555555556,\"#d8576b\"],[0.6666666666666666,\"#ed7953\"],[0.7777777777777778,\"#fb9f3a\"],[0.8888888888888888,\"#fdca26\"],[1.0,\"#f0f921\"]]}],\"choropleth\":[{\"type\":\"choropleth\",\"colorbar\":{\"outlinewidth\":0,\"ticks\":\"\"}}],\"histogram2d\":[{\"type\":\"histogram2d\",\"colorbar\":{\"outlinewidth\":0,\"ticks\":\"\"},\"colorscale\":[[0.0,\"#0d0887\"],[0.1111111111111111,\"#46039f\"],[0.2222222222222222,\"#7201a8\"],[0.3333333333333333,\"#9c179e\"],[0.4444444444444444,\"#bd3786\"],[0.5555555555555556,\"#d8576b\"],[0.6666666666666666,\"#ed7953\"],[0.7777777777777778,\"#fb9f3a\"],[0.8888888888888888,\"#fdca26\"],[1.0,\"#f0f921\"]]}],\"heatmap\":[{\"type\":\"heatmap\",\"colorbar\":{\"outlinewidth\":0,\"ticks\":\"\"},\"colorscale\":[[0.0,\"#0d0887\"],[0.1111111111111111,\"#46039f\"],[0.2222222222222222,\"#7201a8\"],[0.3333333333333333,\"#9c179e\"],[0.4444444444444444,\"#bd3786\"],[0.5555555555555556,\"#d8576b\"],[0.6666666666666666,\"#ed7953\"],[0.7777777777777778,\"#fb9f3a\"],[0.8888888888888888,\"#fdca26\"],[1.0,\"#f0f921\"]]}],\"heatmapgl\":[{\"type\":\"heatmapgl\",\"colorbar\":{\"outlinewidth\":0,\"ticks\":\"\"},\"colorscale\":[[0.0,\"#0d0887\"],[0.1111111111111111,\"#46039f\"],[0.2222222222222222,\"#7201a8\"],[0.3333333333333333,\"#9c179e\"],[0.4444444444444444,\"#bd3786\"],[0.5555555555555556,\"#d8576b\"],[0.6666666666666666,\"#ed7953\"],[0.7777777777777778,\"#fb9f3a\"],[0.8888888888888888,\"#fdca26\"],[1.0,\"#f0f921\"]]}],\"contourcarpet\":[{\"type\":\"contourcarpet\",\"colorbar\":{\"outlinewidth\":0,\"ticks\":\"\"}}],\"contour\":[{\"type\":\"contour\",\"colorbar\":{\"outlinewidth\":0,\"ticks\":\"\"},\"colorscale\":[[0.0,\"#0d0887\"],[0.1111111111111111,\"#46039f\"],[0.2222222222222222,\"#7201a8\"],[0.3333333333333333,\"#9c179e\"],[0.4444444444444444,\"#bd3786\"],[0.5555555555555556,\"#d8576b\"],[0.6666666666666666,\"#ed7953\"],[0.7777777777777778,\"#fb9f3a\"],[0.8888888888888888,\"#fdca26\"],[1.0,\"#f0f921\"]]}],\"surface\":[{\"type\":\"surface\",\"colorbar\":{\"outlinewidth\":0,\"ticks\":\"\"},\"colorscale\":[[0.0,\"#0d0887\"],[0.1111111111111111,\"#46039f\"],[0.2222222222222222,\"#7201a8\"],[0.3333333333333333,\"#9c179e\"],[0.4444444444444444,\"#bd3786\"],[0.5555555555555556,\"#d8576b\"],[0.6666666666666666,\"#ed7953\"],[0.7777777777777778,\"#fb9f3a\"],[0.8888888888888888,\"#fdca26\"],[1.0,\"#f0f921\"]]}],\"mesh3d\":[{\"type\":\"mesh3d\",\"colorbar\":{\"outlinewidth\":0,\"ticks\":\"\"}}],\"scatter\":[{\"fillpattern\":{\"fillmode\":\"overlay\",\"size\":10,\"solidity\":0.2},\"type\":\"scatter\"}],\"parcoords\":[{\"type\":\"parcoords\",\"line\":{\"colorbar\":{\"outlinewidth\":0,\"ticks\":\"\"}}}],\"scatterpolargl\":[{\"type\":\"scatterpolargl\",\"marker\":{\"colorbar\":{\"outlinewidth\":0,\"ticks\":\"\"}}}],\"bar\":[{\"error_x\":{\"color\":\"#2a3f5f\"},\"error_y\":{\"color\":\"#2a3f5f\"},\"marker\":{\"line\":{\"color\":\"#E5ECF6\",\"width\":0.5},\"pattern\":{\"fillmode\":\"overlay\",\"size\":10,\"solidity\":0.2}},\"type\":\"bar\"}],\"scattergeo\":[{\"type\":\"scattergeo\",\"marker\":{\"colorbar\":{\"outlinewidth\":0,\"ticks\":\"\"}}}],\"scatterpolar\":[{\"type\":\"scatterpolar\",\"marker\":{\"colorbar\":{\"outlinewidth\":0,\"ticks\":\"\"}}}],\"histogram\":[{\"marker\":{\"pattern\":{\"fillmode\":\"overlay\",\"size\":10,\"solidity\":0.2}},\"type\":\"histogram\"}],\"scattergl\":[{\"type\":\"scattergl\",\"marker\":{\"colorbar\":{\"outlinewidth\":0,\"ticks\":\"\"}}}],\"scatter3d\":[{\"type\":\"scatter3d\",\"line\":{\"colorbar\":{\"outlinewidth\":0,\"ticks\":\"\"}},\"marker\":{\"colorbar\":{\"outlinewidth\":0,\"ticks\":\"\"}}}],\"scattermapbox\":[{\"type\":\"scattermapbox\",\"marker\":{\"colorbar\":{\"outlinewidth\":0,\"ticks\":\"\"}}}],\"scatterternary\":[{\"type\":\"scatterternary\",\"marker\":{\"colorbar\":{\"outlinewidth\":0,\"ticks\":\"\"}}}],\"scattercarpet\":[{\"type\":\"scattercarpet\",\"marker\":{\"colorbar\":{\"outlinewidth\":0,\"ticks\":\"\"}}}],\"carpet\":[{\"aaxis\":{\"endlinecolor\":\"#2a3f5f\",\"gridcolor\":\"white\",\"linecolor\":\"white\",\"minorgridcolor\":\"white\",\"startlinecolor\":\"#2a3f5f\"},\"baxis\":{\"endlinecolor\":\"#2a3f5f\",\"gridcolor\":\"white\",\"linecolor\":\"white\",\"minorgridcolor\":\"white\",\"startlinecolor\":\"#2a3f5f\"},\"type\":\"carpet\"}],\"table\":[{\"cells\":{\"fill\":{\"color\":\"#EBF0F8\"},\"line\":{\"color\":\"white\"}},\"header\":{\"fill\":{\"color\":\"#C8D4E3\"},\"line\":{\"color\":\"white\"}},\"type\":\"table\"}],\"barpolar\":[{\"marker\":{\"line\":{\"color\":\"#E5ECF6\",\"width\":0.5},\"pattern\":{\"fillmode\":\"overlay\",\"size\":10,\"solidity\":0.2}},\"type\":\"barpolar\"}],\"pie\":[{\"automargin\":true,\"type\":\"pie\"}]},\"layout\":{\"autotypenumbers\":\"strict\",\"colorway\":[\"#636efa\",\"#EF553B\",\"#00cc96\",\"#ab63fa\",\"#FFA15A\",\"#19d3f3\",\"#FF6692\",\"#B6E880\",\"#FF97FF\",\"#FECB52\"],\"font\":{\"color\":\"#2a3f5f\"},\"hovermode\":\"closest\",\"hoverlabel\":{\"align\":\"left\"},\"paper_bgcolor\":\"white\",\"plot_bgcolor\":\"#E5ECF6\",\"polar\":{\"bgcolor\":\"#E5ECF6\",\"angularaxis\":{\"gridcolor\":\"white\",\"linecolor\":\"white\",\"ticks\":\"\"},\"radialaxis\":{\"gridcolor\":\"white\",\"linecolor\":\"white\",\"ticks\":\"\"}},\"ternary\":{\"bgcolor\":\"#E5ECF6\",\"aaxis\":{\"gridcolor\":\"white\",\"linecolor\":\"white\",\"ticks\":\"\"},\"baxis\":{\"gridcolor\":\"white\",\"linecolor\":\"white\",\"ticks\":\"\"},\"caxis\":{\"gridcolor\":\"white\",\"linecolor\":\"white\",\"ticks\":\"\"}},\"coloraxis\":{\"colorbar\":{\"outlinewidth\":0,\"ticks\":\"\"}},\"colorscale\":{\"sequential\":[[0.0,\"#0d0887\"],[0.1111111111111111,\"#46039f\"],[0.2222222222222222,\"#7201a8\"],[0.3333333333333333,\"#9c179e\"],[0.4444444444444444,\"#bd3786\"],[0.5555555555555556,\"#d8576b\"],[0.6666666666666666,\"#ed7953\"],[0.7777777777777778,\"#fb9f3a\"],[0.8888888888888888,\"#fdca26\"],[1.0,\"#f0f921\"]],\"sequentialminus\":[[0.0,\"#0d0887\"],[0.1111111111111111,\"#46039f\"],[0.2222222222222222,\"#7201a8\"],[0.3333333333333333,\"#9c179e\"],[0.4444444444444444,\"#bd3786\"],[0.5555555555555556,\"#d8576b\"],[0.6666666666666666,\"#ed7953\"],[0.7777777777777778,\"#fb9f3a\"],[0.8888888888888888,\"#fdca26\"],[1.0,\"#f0f921\"]],\"diverging\":[[0,\"#8e0152\"],[0.1,\"#c51b7d\"],[0.2,\"#de77ae\"],[0.3,\"#f1b6da\"],[0.4,\"#fde0ef\"],[0.5,\"#f7f7f7\"],[0.6,\"#e6f5d0\"],[0.7,\"#b8e186\"],[0.8,\"#7fbc41\"],[0.9,\"#4d9221\"],[1,\"#276419\"]]},\"xaxis\":{\"gridcolor\":\"white\",\"linecolor\":\"white\",\"ticks\":\"\",\"title\":{\"standoff\":15},\"zerolinecolor\":\"white\",\"automargin\":true,\"zerolinewidth\":2},\"yaxis\":{\"gridcolor\":\"white\",\"linecolor\":\"white\",\"ticks\":\"\",\"title\":{\"standoff\":15},\"zerolinecolor\":\"white\",\"automargin\":true,\"zerolinewidth\":2},\"scene\":{\"xaxis\":{\"backgroundcolor\":\"#E5ECF6\",\"gridcolor\":\"white\",\"linecolor\":\"white\",\"showbackground\":true,\"ticks\":\"\",\"zerolinecolor\":\"white\",\"gridwidth\":2},\"yaxis\":{\"backgroundcolor\":\"#E5ECF6\",\"gridcolor\":\"white\",\"linecolor\":\"white\",\"showbackground\":true,\"ticks\":\"\",\"zerolinecolor\":\"white\",\"gridwidth\":2},\"zaxis\":{\"backgroundcolor\":\"#E5ECF6\",\"gridcolor\":\"white\",\"linecolor\":\"white\",\"showbackground\":true,\"ticks\":\"\",\"zerolinecolor\":\"white\",\"gridwidth\":2}},\"shapedefaults\":{\"line\":{\"color\":\"#2a3f5f\"}},\"annotationdefaults\":{\"arrowcolor\":\"#2a3f5f\",\"arrowhead\":0,\"arrowwidth\":1},\"geo\":{\"bgcolor\":\"white\",\"landcolor\":\"#E5ECF6\",\"subunitcolor\":\"white\",\"showland\":true,\"showlakes\":true,\"lakecolor\":\"white\"},\"title\":{\"x\":0.05},\"mapbox\":{\"style\":\"light\"}}},\"xaxis\":{\"anchor\":\"y\",\"domain\":[0.0,1.0],\"title\":{\"text\":\"Nivel de Ingreso\"}},\"yaxis\":{\"anchor\":\"x\",\"domain\":[0.0,1.0],\"title\":{\"text\":\"Cantidad de Estudiantes\"}},\"coloraxis\":{\"colorbar\":{\"title\":{\"text\":\"Nivel_Estres\"}},\"colorscale\":[[0.0,\"#0d0887\"],[0.1111111111111111,\"#46039f\"],[0.2222222222222222,\"#7201a8\"],[0.3333333333333333,\"#9c179e\"],[0.4444444444444444,\"#bd3786\"],[0.5555555555555556,\"#d8576b\"],[0.6666666666666666,\"#ed7953\"],[0.7777777777777778,\"#fb9f3a\"],[0.8888888888888888,\"#fdca26\"],[1.0,\"#f0f921\"]]},\"legend\":{\"tracegroupgap\":0},\"title\":{\"text\":\"Estudiantes por Nivel de Ingreso y Nivel de Estrés\"},\"barmode\":\"relative\"},                        {\"responsive\": true}                    ).then(function(){\n",
              "                            \n",
              "var gd = document.getElementById('d5a9639c-8a81-47cb-83cc-9121a4bf78fa');\n",
              "var x = new MutationObserver(function (mutations, observer) {{\n",
              "        var display = window.getComputedStyle(gd).display;\n",
              "        if (!display || display === 'none') {{\n",
              "            console.log([gd, 'removed!']);\n",
              "            Plotly.purge(gd);\n",
              "            observer.disconnect();\n",
              "        }}\n",
              "}});\n",
              "\n",
              "// Listen for the removal of the full notebook cells\n",
              "var notebookContainer = gd.closest('#notebook-container');\n",
              "if (notebookContainer) {{\n",
              "    x.observe(notebookContainer, {childList: true});\n",
              "}}\n",
              "\n",
              "// Listen for the clearing of the current output cell\n",
              "var outputEl = gd.closest('.output');\n",
              "if (outputEl) {{\n",
              "    x.observe(outputEl, {childList: true});\n",
              "}}\n",
              "\n",
              "                        })                };                            </script>        </div>\n",
              "</body>\n",
              "</html>"
            ]
          },
          "metadata": {}
        }
      ]
    },
    {
      "cell_type": "markdown",
      "source": [],
      "metadata": {
        "id": "IGJW-NdFPEbK"
      }
    },
    {
      "cell_type": "code",
      "source": [],
      "metadata": {
        "id": "njIr6QW7PEzY"
      },
      "execution_count": null,
      "outputs": []
    },
    {
      "cell_type": "markdown",
      "source": [
        "Este bloque de código:\n",
        "\n",
        "Convierte el DataFrame de Polars a pandas para facilitar el uso de plotly.express.\n",
        "\n",
        "Agrupa los datos por dos variables categóricas: Nivel de Ingreso y Nivel de Estrés.\n",
        "\n",
        "Cuenta cuántos estudiantes hay en cada combinación de esas dos categorías.\n",
        "\n",
        "Crea una gráfica de barras apiladas, donde:\n",
        "\n",
        "El eje X muestra los niveles de ingreso (Low, Medium, High),\n",
        "\n",
        "El eje Y muestra la cantidad de estudiantes,\n",
        "\n",
        "Los colores representan los distintos niveles de estrés.\n",
        "\n",
        "¿Para qué sirve?\n",
        "\n",
        "Permite visualizar cómo se distribuye el nivel de estrés dentro de cada grupo de ingreso familiar. Esto ayuda a identificar si, por ejemplo, los estudiantes con menos ingresos tienden a tener más estrés.\n",
        "\n"
      ],
      "metadata": {
        "id": "NSNrv99DPa1v"
      }
    },
    {
      "cell_type": "markdown",
      "source": [],
      "metadata": {
        "id": "159PPp0pPFen"
      }
    },
    {
      "cell_type": "code",
      "source": [
        "import seaborn as sns\n",
        "import matplotlib.pyplot as plt\n",
        "\n",
        "plt.figure(figsize=(8, 5))\n",
        "sns.boxplot(data=df_pandas, x=\"Nivel_Ingresos\", y=\"Nota_Final\", palette=\"pastel\")\n",
        "plt.title(\"Distribución de Notas según Nivel de Ingreso Familiar\")\n",
        "plt.xlabel(\"Nivel de Ingreso\")\n",
        "plt.ylabel(\"Nota Final\")\n",
        "plt.grid(True)\n",
        "plt.show()\n"
      ],
      "metadata": {
        "colab": {
          "base_uri": "https://localhost:8080/",
          "height": 617
        },
        "id": "ZkjsSO8iPHEp",
        "outputId": "d9035622-baf0-4078-a1f4-035aa8793920"
      },
      "execution_count": 31,
      "outputs": [
        {
          "output_type": "stream",
          "name": "stderr",
          "text": [
            "<ipython-input-31-b686651ffd00>:5: FutureWarning:\n",
            "\n",
            "\n",
            "\n",
            "Passing `palette` without assigning `hue` is deprecated and will be removed in v0.14.0. Assign the `x` variable to `hue` and set `legend=False` for the same effect.\n",
            "\n",
            "\n"
          ]
        },
        {
          "output_type": "display_data",
          "data": {
            "text/plain": [
              "<Figure size 800x500 with 1 Axes>"
            ],
            "image/png": "[encoded data removed]"
          },
          "metadata": {}
        }
      ]
    },
    {
      "cell_type": "markdown",
      "source": [
        "¿Qué hace el código?\n",
        "\n",
        "Utiliza la librería seaborn para generar un diagrama de caja (boxplot).\n",
        "\n",
        "Agrupa los datos según el nivel de ingreso y muestra la distribución de la variable Nota Final para cada grupo.\n",
        "\n",
        "Los boxplots permiten ver:\n",
        "\n",
        "La mediana (línea dentro de la caja),\n",
        "\n",
        "El rango intercuartílico (la caja),\n",
        "\n",
        "Los valores atípicos (puntos fuera de los bigotes).\n",
        "\n",
        "¿Para qué sirve?\n",
        "\n",
        "Sirve para comparar cómo varían las notas de los estudiantes dependiendo de su nivel de ingreso. Puedes observar si hay diferencias marcadas entre los grupos y si algunos presentan mayor variabilidad o desempeño académico."
      ],
      "metadata": {
        "id": "YtmZsbm_Ph3Y"
      }
    },
    {
      "cell_type": "markdown",
      "source": [],
      "metadata": {
        "id": "nmWhSY2KPMxH"
      }
    },
    {
      "cell_type": "code",
      "source": [
        "import seaborn as sns\n",
        "import matplotlib.pyplot as plt\n",
        "\n",
        "# Seleccionar solo columnas numéricas para correlación\n",
        "numericas = df_pandas.select_dtypes(include=['float64', 'int64'])\n",
        "\n",
        "# Calcular la matriz de correlación\n",
        "correlation_matrix = numericas.corr()\n",
        "\n",
        "# Crear heatmap\n",
        "plt.figure(figsize=(10, 7))\n",
        "sns.heatmap(correlation_matrix, annot=True, cmap='coolwarm', linewidths=0.5)\n",
        "plt.title(\"Mapa de Calor de Correlaciones entre Variables Numéricas\")\n",
        "plt.show()\n"
      ],
      "metadata": {
        "colab": {
          "base_uri": "https://localhost:8080/",
          "height": 622
        },
        "id": "b_Zsl6gQPNZa",
        "outputId": "f2e5e3f8-770a-4a35-d889-b62567e6dbe2"
      },
      "execution_count": 32,
      "outputs": [
        {
          "output_type": "display_data",
          "data": {
            "text/plain": [
              "<Figure size 1000x700 with 2 Axes>"
            ],
            "image/png": "[encoded data removed]"
          },
          "metadata": {}
        }
      ]
    },
    {
      "cell_type": "markdown",
      "source": [
        "¿Qué hace el código?\n",
        "\n",
        "Filtra solo las columnas numéricas del DataFrame.\n",
        "\n",
        "Calcula la matriz de correlación, que muestra qué tan relacionada está cada variable con las demás (valores entre -1 y 1).\n",
        "\n",
        "Crea un mapa de calor (heatmap) usando seaborn, donde:\n",
        "\n",
        "Los colores indican el grado de correlación (rojo fuerte = correlación alta, azul = baja),\n",
        "\n",
        "Las anotaciones muestran el valor numérico exacto.\n",
        "\n",
        "¿Para qué sirve?\n",
        "\n",
        "Permite detectar relaciones entre variables numéricas. Por ejemplo, si la nota final está fuertemente correlacionada con las horas de estudio o el nivel de estrés, esto se verá reflejado claramente en el heatmap."
      ],
      "metadata": {
        "id": "fFy5IIdtPpF4"
      }
    },
    {
      "cell_type": "markdown",
      "source": [],
      "metadata": {
        "id": "k8kY5sWRPY0K"
      }
    },
    {
      "cell_type": "markdown",
      "source": [
        "# *Primer Punto:* ¿Cómo puedes evaluar la hipótesis de que el problema de que casi todas las predicciones den Medium se debe a la desproporción de datos en esa columna?"
      ],
      "metadata": {
        "id": "yrv68BNMQLbQ"
      }
    },
    {
      "cell_type": "code",
      "source": [
        "import polars as pl\n",
        "\n",
        "# Asegúrate de que el nombre del archivo sea correcto\n",
        "df = pl.read_csv(\"Students_Grading_Dataset.csv\")\n",
        "\n",
        "# Verificamos que se cargó correctamente\n",
        "print(df.head())"
      ],
      "metadata": {
        "colab": {
          "base_uri": "https://localhost:8080/"
        },
        "id": "5Akt8a2kUIqD",
        "outputId": "baeb93f0-7907-4c47-c068-b2658f82f249"
      },
      "execution_count": 45,
      "outputs": [
        {
          "output_type": "stream",
          "name": "stdout",
          "text": [
            "shape: (5, 23)\n",
            "┌───────────┬───────────┬───────────┬───────────┬───┬───────────┬───────────┬───────────┬──────────┐\n",
            "│ Student_I ┆ First_Nam ┆ Last_Name ┆ Email     ┆ … ┆ Parent_Ed ┆ Family_In ┆ Stress_Le ┆ Sleep_Ho │\n",
            "│ D         ┆ e         ┆ ---       ┆ ---       ┆   ┆ ucation_L ┆ come_Leve ┆ vel       ┆ urs_per_ │\n",
            "│ ---       ┆ ---       ┆ str       ┆ str       ┆   ┆ evel      ┆ l         ┆ (1-10)    ┆ Night    │\n",
            "│ str       ┆ str       ┆           ┆           ┆   ┆ ---       ┆ ---       ┆ ---       ┆ ---      │\n",
            "│           ┆           ┆           ┆           ┆   ┆ str       ┆ str       ┆ i64       ┆ f64      │\n",
            "╞═══════════╪═══════════╪═══════════╪═══════════╪═══╪═══════════╪═══════════╪═══════════╪══════════╡\n",
            "│ S1000     ┆ Omar      ┆ Williams  ┆ student0@ ┆ … ┆ Master's  ┆ Medium    ┆ 1         ┆ 5.9      │\n",
            "│           ┆           ┆           ┆ universit ┆   ┆           ┆           ┆           ┆          │\n",
            "│           ┆           ┆           ┆ y.com     ┆   ┆           ┆           ┆           ┆          │\n",
            "│ S1001     ┆ Maria     ┆ Brown     ┆ student1@ ┆ … ┆ High      ┆ Low       ┆ 4         ┆ 4.3      │\n",
            "│           ┆           ┆           ┆ universit ┆   ┆ School    ┆           ┆           ┆          │\n",
            "│           ┆           ┆           ┆ y.com     ┆   ┆           ┆           ┆           ┆          │\n",
            "│ S1002     ┆ Ahmed     ┆ Jones     ┆ student2@ ┆ … ┆ High      ┆ Low       ┆ 9         ┆ 6.1      │\n",
            "│           ┆           ┆           ┆ universit ┆   ┆ School    ┆           ┆           ┆          │\n",
            "│           ┆           ┆           ┆ y.com     ┆   ┆           ┆           ┆           ┆          │\n",
            "│ S1003     ┆ Omar      ┆ Williams  ┆ student3@ ┆ … ┆ High      ┆ Low       ┆ 8         ┆ 4.9      │\n",
            "│           ┆           ┆           ┆ universit ┆   ┆ School    ┆           ┆           ┆          │\n",
            "│           ┆           ┆           ┆ y.com     ┆   ┆           ┆           ┆           ┆          │\n",
            "│ S1004     ┆ John      ┆ Smith     ┆ student4@ ┆ … ┆ Master's  ┆ Medium    ┆ 6         ┆ 4.5      │\n",
            "│           ┆           ┆           ┆ universit ┆   ┆           ┆           ┆           ┆          │\n",
            "│           ┆           ┆           ┆ y.com     ┆   ┆           ┆           ┆           ┆          │\n",
            "└───────────┴───────────┴───────────┴───────────┴───┴───────────┴───────────┴───────────┴──────────┘\n"
          ]
        }
      ]
    },
    {
      "cell_type": "markdown",
      "source": [],
      "metadata": {
        "id": "Us5KbNi6UABy"
      }
    },
    {
      "cell_type": "code",
      "source": [
        "import polars as pl\n",
        "\n",
        "# Asegúrate de que el nombre del archivo sea correcto\n",
        "df = pl.read_csv(\"Students_Grading_Dataset_Biased.csv\")\n",
        "\n",
        "# Verificamos que se cargó correctamente\n",
        "print(df.head())"
      ],
      "metadata": {
        "colab": {
          "base_uri": "https://localhost:8080/"
        },
        "id": "IxEhbiTqUSJa",
        "outputId": "4f4fbd12-6f0e-4901-a26d-903d7f631739"
      },
      "execution_count": 46,
      "outputs": [
        {
          "output_type": "stream",
          "name": "stdout",
          "text": [
            "shape: (5, 23)\n",
            "┌───────────┬───────────┬───────────┬───────────┬───┬───────────┬───────────┬───────────┬──────────┐\n",
            "│ Student_I ┆ First_Nam ┆ Last_Name ┆ Email     ┆ … ┆ Parent_Ed ┆ Family_In ┆ Stress_Le ┆ Sleep_Ho │\n",
            "│ D         ┆ e         ┆ ---       ┆ ---       ┆   ┆ ucation_L ┆ come_Leve ┆ vel       ┆ urs_per_ │\n",
            "│ ---       ┆ ---       ┆ str       ┆ str       ┆   ┆ evel      ┆ l         ┆ (1-10)    ┆ Night    │\n",
            "│ str       ┆ str       ┆           ┆           ┆   ┆ ---       ┆ ---       ┆ ---       ┆ ---      │\n",
            "│           ┆           ┆           ┆           ┆   ┆ str       ┆ str       ┆ i64       ┆ f64      │\n",
            "╞═══════════╪═══════════╪═══════════╪═══════════╪═══╪═══════════╪═══════════╪═══════════╪══════════╡\n",
            "│ S1000     ┆ Omar      ┆ Williams  ┆ student0@ ┆ … ┆ High      ┆ Medium    ┆ 5         ┆ 4.7      │\n",
            "│           ┆           ┆           ┆ universit ┆   ┆ School    ┆           ┆           ┆          │\n",
            "│           ┆           ┆           ┆ y.com     ┆   ┆           ┆           ┆           ┆          │\n",
            "│ S1001     ┆ Maria     ┆ Brown     ┆ student1@ ┆ … ┆ None      ┆ Medium    ┆ 4         ┆ 9.0      │\n",
            "│           ┆           ┆           ┆ universit ┆   ┆           ┆           ┆           ┆          │\n",
            "│           ┆           ┆           ┆ y.com     ┆   ┆           ┆           ┆           ┆          │\n",
            "│ S1002     ┆ Ahmed     ┆ Jones     ┆ student2@ ┆ … ┆ Master's  ┆ Low       ┆ 6         ┆ 6.2      │\n",
            "│           ┆           ┆           ┆ universit ┆   ┆           ┆           ┆           ┆          │\n",
            "│           ┆           ┆           ┆ y.com     ┆   ┆           ┆           ┆           ┆          │\n",
            "│ S1003     ┆ Omar      ┆ Williams  ┆ student3@ ┆ … ┆ High      ┆ High      ┆ 3         ┆ 6.7      │\n",
            "│           ┆           ┆           ┆ universit ┆   ┆ School    ┆           ┆           ┆          │\n",
            "│           ┆           ┆           ┆ y.com     ┆   ┆           ┆           ┆           ┆          │\n",
            "│ S1004     ┆ John      ┆ Smith     ┆ student4@ ┆ … ┆ High      ┆ High      ┆ 2         ┆ 7.1      │\n",
            "│           ┆           ┆           ┆ universit ┆   ┆ School    ┆           ┆           ┆          │\n",
            "│           ┆           ┆           ┆ y.com     ┆   ┆           ┆           ┆           ┆          │\n",
            "└───────────┴───────────┴───────────┴───────────┴───┴───────────┴───────────┴───────────┴──────────┘\n"
          ]
        }
      ]
    },
    {
      "cell_type": "code",
      "source": [
        "#En este caso tendré en mente la visualización de los expuestos en clase teniendo:\n",
        "df2 = df.select(['Grade', 'Stress_Level (1-10)', 'Internet_Access_at_Home', 'Study_Hours_per_Week', 'Family_Income_Level'])\n",
        "df2\n",
        ""
      ],
      "metadata": {
        "colab": {
          "base_uri": "https://localhost:8080/",
          "height": 443
        },
        "id": "XZUGaKTrUkLz",
        "outputId": "845b7711-c905-4184-e067-127fd68ddb6d"
      },
      "execution_count": 47,
      "outputs": [
        {
          "output_type": "execute_result",
          "data": {
            "text/plain": [
              "shape: (5_000, 5)\n",
              "┌───────┬─────────────────────┬───────────────────────┬──────────────────────┬─────────────────────┐\n",
              "│ Grade ┆ Stress_Level (1-10) ┆ Internet_Access_at_Ho ┆ Study_Hours_per_Week ┆ Family_Income_Level │\n",
              "│ ---   ┆ ---                 ┆ me                    ┆ ---                  ┆ ---                 │\n",
              "│ str   ┆ i64                 ┆ ---                   ┆ f64                  ┆ str                 │\n",
              "│       ┆                     ┆ str                   ┆                      ┆                     │\n",
              "╞═══════╪═════════════════════╪═══════════════════════╪══════════════════════╪═════════════════════╡\n",
              "│ F     ┆ 5                   ┆ Yes                   ┆ 6.2                  ┆ Medium              │\n",
              "│ A     ┆ 4                   ┆ Yes                   ┆ 19.0                 ┆ Medium              │\n",
              "│ D     ┆ 6                   ┆ Yes                   ┆ 20.7                 ┆ Low                 │\n",
              "│ A     ┆ 3                   ┆ Yes                   ┆ 24.8                 ┆ High                │\n",
              "│ F     ┆ 2                   ┆ Yes                   ┆ 15.4                 ┆ High                │\n",
              "│ …     ┆ …                   ┆ …                     ┆ …                    ┆ …                   │\n",
              "│ D     ┆ 10                  ┆ Yes                   ┆ 25.5                 ┆ Low                 │\n",
              "│ C     ┆ 4                   ┆ Yes                   ┆ 5.0                  ┆ Medium              │\n",
              "│ A     ┆ 4                   ┆ No                    ┆ 24.8                 ┆ Medium              │\n",
              "│ A     ┆ 1                   ┆ Yes                   ┆ 16.1                 ┆ Low                 │\n",
              "│ F     ┆ 2                   ┆ Yes                   ┆ 29.2                 ┆ Low                 │\n",
              "└───────┴─────────────────────┴───────────────────────┴──────────────────────┴─────────────────────┘"
            ],
            "text/html": [
              "<div><style>\n",
              ".dataframe > thead > tr,\n",
              ".dataframe > tbody > tr {\n",
              "  text-align: right;\n",
              "  white-space: pre-wrap;\n",
              "}\n",
              "</style>\n",
              "<small>shape: (5_000, 5)</small><table border=\"1\" class=\"dataframe\"><thead><tr><th>Grade</th><th>Stress_Level (1-10)</th><th>Internet_Access_at_Home</th><th>Study_Hours_per_Week</th><th>Family_Income_Level</th></tr><tr><td>str</td><td>i64</td><td>str</td><td>f64</td><td>str</td></tr></thead><tbody><tr><td>&quot;F&quot;</td><td>5</td><td>&quot;Yes&quot;</td><td>6.2</td><td>&quot;Medium&quot;</td></tr><tr><td>&quot;A&quot;</td><td>4</td><td>&quot;Yes&quot;</td><td>19.0</td><td>&quot;Medium&quot;</td></tr><tr><td>&quot;D&quot;</td><td>6</td><td>&quot;Yes&quot;</td><td>20.7</td><td>&quot;Low&quot;</td></tr><tr><td>&quot;A&quot;</td><td>3</td><td>&quot;Yes&quot;</td><td>24.8</td><td>&quot;High&quot;</td></tr><tr><td>&quot;F&quot;</td><td>2</td><td>&quot;Yes&quot;</td><td>15.4</td><td>&quot;High&quot;</td></tr><tr><td>&hellip;</td><td>&hellip;</td><td>&hellip;</td><td>&hellip;</td><td>&hellip;</td></tr><tr><td>&quot;D&quot;</td><td>10</td><td>&quot;Yes&quot;</td><td>25.5</td><td>&quot;Low&quot;</td></tr><tr><td>&quot;C&quot;</td><td>4</td><td>&quot;Yes&quot;</td><td>5.0</td><td>&quot;Medium&quot;</td></tr><tr><td>&quot;A&quot;</td><td>4</td><td>&quot;No&quot;</td><td>24.8</td><td>&quot;Medium&quot;</td></tr><tr><td>&quot;A&quot;</td><td>1</td><td>&quot;Yes&quot;</td><td>16.1</td><td>&quot;Low&quot;</td></tr><tr><td>&quot;F&quot;</td><td>2</td><td>&quot;Yes&quot;</td><td>29.2</td><td>&quot;Low&quot;</td></tr></tbody></table></div>"
            ]
          },
          "metadata": {},
          "execution_count": 47
        }
      ]
    },
    {
      "cell_type": "code",
      "source": [
        "# Supongamos que 'Grade' es la etiqueta (variable objetivo)\n",
        "y_true = df2['Grade'].to_numpy()  # Etiquetas reales\n",
        "\n",
        "# Suponiendo que ya tienes las predicciones de tu modelo\n",
        "# Aquí te mostraré cómo usar un modelo simple de clasificación\n",
        "from sklearn.model_selection import train_test_split\n",
        "from sklearn.ensemble import RandomForestClassifier\n",
        "\n",
        "# Dividir el conjunto de datos en entrenamiento y prueba\n",
        "X = df2.drop('Grade', axis=1)  # Variables independientes\n",
        "y = df2['Grade']  # Variable dependiente (etiquetas)\n",
        "\n",
        "# Dividir el conjunto de datos en entrenamiento y prueba\n",
        "X_train, X_test, y_train, y_test = train_test_split(X, y, test_size=0.3, random_state=42)\n",
        "\n",
        "# Crear un modelo (en este caso RandomForest)\n",
        "model = RandomForestClassifier()\n",
        "model.fit(X_train, y_train)\n",
        "\n",
        "# Realizar las predicciones\n",
        "y_pred = model.predict(X_test)\n"
      ],
      "metadata": {
        "colab": {
          "base_uri": "https://localhost:8080/",
          "height": 222
        },
        "id": "MtJxKEoyU3DK",
        "outputId": "2de6e488-7ed6-4ced-e221-f300b6b70e89"
      },
      "execution_count": 48,
      "outputs": [
        {
          "output_type": "error",
          "ename": "TypeError",
          "evalue": "DataFrame.drop() got an unexpected keyword argument 'axis'",
          "traceback": [
            "\u001b[0;31m---------------------------------------------------------------------------\u001b[0m",
            "\u001b[0;31mTypeError\u001b[0m                                 Traceback (most recent call last)",
            "\u001b[0;32m<ipython-input-48-5c715a10371d>\u001b[0m in \u001b[0;36m<cell line: 0>\u001b[0;34m()\u001b[0m\n\u001b[1;32m      8\u001b[0m \u001b[0;34m\u001b[0m\u001b[0m\n\u001b[1;32m      9\u001b[0m \u001b[0;31m# Dividir el conjunto de datos en entrenamiento y prueba\u001b[0m\u001b[0;34m\u001b[0m\u001b[0;34m\u001b[0m\u001b[0m\n\u001b[0;32m---> 10\u001b[0;31m \u001b[0mX\u001b[0m \u001b[0;34m=\u001b[0m \u001b[0mdf2\u001b[0m\u001b[0;34m.\u001b[0m\u001b[0mdrop\u001b[0m\u001b[0;34m(\u001b[0m\u001b[0;34m'Grade'\u001b[0m\u001b[0;34m,\u001b[0m \u001b[0maxis\u001b[0m\u001b[0;34m=\u001b[0m\u001b[0;36m1\u001b[0m\u001b[0;34m)\u001b[0m  \u001b[0;31m# Variables independientes\u001b[0m\u001b[0;34m\u001b[0m\u001b[0;34m\u001b[0m\u001b[0m\n\u001b[0m\u001b[1;32m     11\u001b[0m \u001b[0my\u001b[0m \u001b[0;34m=\u001b[0m \u001b[0mdf2\u001b[0m\u001b[0;34m[\u001b[0m\u001b[0;34m'Grade'\u001b[0m\u001b[0;34m]\u001b[0m  \u001b[0;31m# Variable dependiente (etiquetas)\u001b[0m\u001b[0;34m\u001b[0m\u001b[0;34m\u001b[0m\u001b[0m\n\u001b[1;32m     12\u001b[0m \u001b[0;34m\u001b[0m\u001b[0m\n",
            "\u001b[0;31mTypeError\u001b[0m: DataFrame.drop() got an unexpected keyword argument 'axis'"
          ]
        }
      ]
    },
    {
      "cell_type": "code",
      "source": [
        "# En lugar de df2.drop('Grade', axis=1), debes usar:\n",
        "X = df2.drop('Grade')  # Variables independientes\n",
        "y = df2['Grade']  # Variable dependiente (etiquetas)\n"
      ],
      "metadata": {
        "id": "iGIr4ssdU-Pa"
      },
      "execution_count": 49,
      "outputs": []
    },
    {
      "cell_type": "code",
      "source": [
        "import polars as pl\n",
        "from sklearn.model_selection import train_test_split\n",
        "from sklearn.ensemble import RandomForestClassifier\n",
        "from sklearn.metrics import confusion_matrix\n",
        "from sklearn.preprocessing import LabelEncoder\n",
        "import seaborn as sns\n",
        "import matplotlib.pyplot as plt\n",
        "\n",
        "# Cargar el DataFrame de Polars\n",
        "df = pl.read_csv(\"Students_Grading_Dataset_Biased.csv\")\n",
        "\n",
        "# Seleccionar las columnas necesarias\n",
        "df2 = df.select(['Grade', 'Stress_Level (1-10)', 'Internet_Access_at_Home', 'Study_Hours_per_Week', 'Family_Income_Level'])\n",
        "\n",
        "# Convertirlo a pandas para trabajar con scikit-learn\n",
        "df_pandas = df2.to_pandas()\n",
        "\n",
        "# Codificar las variables categóricas\n",
        "label_encoder = LabelEncoder()\n",
        "\n",
        "# Asegúrate de que las columnas categóricas estén presentes en el DataFrame\n",
        "df_pandas['Internet_Access_at_Home'] = label_encoder.fit_transform(df_pandas['Internet_Access_at_Home'])\n",
        "df_pandas['Family_Income_Level'] = label_encoder.fit_transform(df_pandas['Family_Income_Level'])\n",
        "df_pandas['Grade'] = label_encoder.fit_transform(df_pandas['Grade'])\n",
        "\n",
        "# Dividir el conjunto de datos en entrenamiento y prueba\n",
        "X = df_pandas.drop('Grade', axis=1)  # Variables independientes\n",
        "y = df_pandas['Grade']  # Variable dependiente (etiquetas)\n",
        "\n",
        "X_train, X_test, y_train, y_test = train_test_split(X, y, test_size=0.3, random_state=42)\n",
        "\n",
        "# Crear el modelo de RandomForest\n",
        "model = RandomForestClassifier()\n",
        "model.fit(X_train, y_train)\n",
        "\n",
        "# Hacer las predicciones\n",
        "y_pred = model.predict(X_test)\n",
        "\n",
        "# Generar la\n"
      ],
      "metadata": {
        "id": "ulXgkAVFVJCR"
      },
      "execution_count": 52,
      "outputs": []
    },
    {
      "cell_type": "code",
      "source": [
        "import polars as pl\n",
        "from sklearn.model_selection import train_test_split\n",
        "from sklearn.ensemble import RandomForestClassifier\n",
        "from sklearn.metrics import confusion_matrix\n",
        "from sklearn.preprocessing import LabelEncoder\n",
        "import seaborn as sns\n",
        "import matplotlib.pyplot as plt\n",
        "\n",
        "# Cargar el DataFrame de Polars\n",
        "df = pl.read_csv(\"Students_Grading_Dataset_Biased.csv\")\n",
        "\n",
        "# Seleccionar las columnas necesarias\n",
        "df2 = df.select(['Grade', 'Stress_Level (1-10)', 'Internet_Access_at_Home', 'Study_Hours_per_Week', 'Family_Income_Level'])\n",
        "\n",
        "# Convertirlo a pandas para trabajar con scikit-learn\n",
        "df_pandas = df2.to_pandas()\n",
        "\n",
        "# Codificar las variables categóricas\n",
        "label_encoder = LabelEncoder()\n",
        "\n",
        "# Codificamos las columnas categóricas\n",
        "df_pandas['Internet_Access_at_Home'] = label_encoder.fit_transform(df_pandas['Internet_Access_at_Home'])\n",
        "df_pandas['Family_Income_Level'] = label_encoder.fit_transform(df_pandas['Family_Income_Level'])\n",
        "df_pandas['Grade'] = label_encoder.fit_transform(df_pandas['Grade'])\n",
        "\n",
        "# Dividir el conjunto de datos en entrenamiento y prueba\n",
        "X = df_pandas.drop('Grade', axis=1)  # Variables independientes\n",
        "y = df_pandas['Grade']  # Variable dependiente (etiquetas)\n",
        "\n",
        "X_train, X_test, y_train, y_test = train_test_split(X, y, test_size=0.3, random_state=42)\n",
        "\n",
        "# Crear el modelo de RandomForest\n",
        "model = RandomForestClassifier()\n",
        "model.fit(X_train, y_train)\n",
        "\n",
        "# Hacer las predicciones\n",
        "y_pred = model.predict(X_test)\n",
        "\n",
        "# Generar la matriz de confusión\n",
        "cm = confusion_matrix(y_test, y_pred)\n",
        "\n",
        "# Visualizar la matriz de confusión con un mapa de calor\n",
        "plt.figure(figsize=(8, 6))\n",
        "sns.heatmap(cm, annot=True, fmt=\"d\", cmap=\"Blues\", xticklabels=label_encoder.classes_, yticklabels=label_encoder.classes_)\n",
        "plt.title(\"Matriz de Confusión\")\n",
        "plt.xlabel(\"Predicciones\")\n",
        "plt.ylabel(\"Etiquetas Verdaderas\")\n",
        "\n",
        "# Mostrar la visualización\n",
        "plt.show()\n"
      ],
      "metadata": {
        "colab": {
          "base_uri": "https://localhost:8080/",
          "height": 564
        },
        "id": "xH8iVulqVdWL",
        "outputId": "235d5760-1515-48b0-fd38-4f30c18943bd"
      },
      "execution_count": 54,
      "outputs": [
        {
          "output_type": "display_data",
          "data": {
            "text/plain": [
              "<Figure size 800x600 with 2 Axes>"
            ],
            "image/png": "[encoded data removed]"
          },
          "metadata": {}
        }
      ]
    },
    {
      "cell_type": "markdown",
      "source": [
        "# Matriz de confusión:\n",
        "\n",
        " Es una herramienta que muestra cuántas veces el modelo predijo correctamente y cuántas veces cometió errores en las diferentes categorías de \"Grade\". La matriz tiene:\n",
        "\n",
        "Filas: las clases reales (etiquetas verdaderas).\n",
        "\n",
        "Columnas:\n",
        "\n",
        "las clases predichas por el modelo.\n",
        "\n",
        "Usamos Seaborn para visualizar la matriz de confusión como un mapa de calor. Los valores en la matriz muestran el número de veces que una predicción fue correcta o incorrecta para cada clase.\n",
        "\n",
        "Título y etiquetas:\n",
        "\n",
        "Añadimos un título y etiquetas para hacer la visualización más comprensible.\n",
        "\n",
        "¿Para qué sirve todo esto?\n",
        "\n",
        "Este código te permite:\n",
        "\n",
        "Entrenar un modelo para predecir la nota de los estudiantes en función de varias características (estrés, horas de estudio, acceso a internet, ingresos familiares).\n",
        "\n",
        "Evaluar el rendimiento del modelo mediante la matriz de confusión, lo que te ayuda a ver cómo de bien está prediciendo el modelo las categorías de notas (A, B, C, etc.).\n",
        "\n",
        "Visualizar los resultados de manera clara utilizando gráficos como la matriz de confusión.\n",
        "\n",
        "Es útil para entender cómo los factores de un estudiante afectan su rendimiento académico y mejorar las predicciones de acuerdo a esos factores."
      ],
      "metadata": {
        "id": "xNPoQgiTV-ky"
      }
    },
    {
      "cell_type": "code",
      "source": [
        "from sklearn.model_selection import train_test_split\n",
        "from sklearn.neighbors import KNeighborsClassifier\n",
        "from sklearn.metrics import confusion_matrix, classification_report\n",
        "import pandas as pd\n",
        "\n",
        "# Convertir a pandas para compatibilidad con sklearn\n",
        "df_pandas = df2.to_pandas()\n",
        "\n",
        "# Codificar variables categóricas\n",
        "df_encoded = pd.get_dummies(df_pandas, columns=[\"Grade\", \"Internet_Access_at_Home\"])\n",
        "\n",
        "# Separar features y target\n",
        "X = df_encoded.drop(\"Family_Income_Level\", axis=1)\n",
        "y = df_encoded[\"Family_Income_Level\"]\n",
        "\n",
        "# Train-test split\n",
        "X_train, X_test, y_train, y_test = train_test_split(X, y, test_size=0.3, random_state=42)\n",
        "\n",
        "# Modelo k-NN\n",
        "knn = KNeighborsClassifier(n_neighbors=5)\n",
        "knn.fit(X_train, y_train)\n",
        "y_pred = knn.predict(X_test)\n",
        "\n",
        "# Matriz de confusión\n",
        "print(\"Matriz de Confusión:\\n\", confusion_matrix(y_test, y_pred))\n",
        "\n",
        "# Métricas por clase\n",
        "print(\"\\nReporte de Clasificación:\\n\", classification_report(y_test, y_pred))\n",
        ""
      ],
      "metadata": {
        "colab": {
          "base_uri": "https://localhost:8080/"
        },
        "id": "7J6pRYLnV64a",
        "outputId": "b3d88954-79b7-48ba-c46f-d2cc44ef5243"
      },
      "execution_count": 55,
      "outputs": [
        {
          "output_type": "stream",
          "name": "stdout",
          "text": [
            "Matriz de Confusión:\n",
            " [[ 78 154  91]\n",
            " [130 269 194]\n",
            " [132 258 194]]\n",
            "\n",
            "Reporte de Clasificación:\n",
            "               precision    recall  f1-score   support\n",
            "\n",
            "        High       0.23      0.24      0.24       323\n",
            "         Low       0.40      0.45      0.42       593\n",
            "      Medium       0.41      0.33      0.37       584\n",
            "\n",
            "    accuracy                           0.36      1500\n",
            "   macro avg       0.34      0.34      0.34      1500\n",
            "weighted avg       0.36      0.36      0.36      1500\n",
            "\n"
          ]
        }
      ]
    },
    {
      "cell_type": "markdown",
      "source": [
        "# Interpretación\n",
        "\n",
        "Filas: Representan las clases reales o etiquetas verdaderas.\n",
        "\n",
        "Columnas: Corresponden a las clases que el modelo ha predicho.\n",
        "\n",
        "Diagonal Principal (78, 269, 194): Indica las predicciones correctas, es decir, los verdaderos positivos.\n",
        "\n",
        "Fuera de la Diagonal: Reflejan los errores cometidos por el modelo.\n",
        "\n",
        "\n",
        "# Desglose por Clase\n",
        "\n",
        "# Clase \"High\" (Real):\n",
        "\n",
        "78 muestras fueron correctamente clasificadas como \"High\".\n",
        "\n",
        "154 muestras fueron incorrectamente clasificadas como \"Low\".\n",
        "\n",
        "91 muestras fueron erróneamente clasificadas como \"Medium\".\n",
        "\n",
        "# Clase \"Low\" (Real):\n",
        "\n",
        "269 muestras fueron correctamente clasificadas como \"Low\".\n",
        "\n",
        "130 muestras fueron incorrectamente clasificadas como \"High\".\n",
        "\n",
        "194 muestras fueron erróneamente clasificadas como \"Medium\".\n",
        "\n",
        "# Clase \"Medium\" (Real):\n",
        "\n",
        "194 muestras fueron correctamente clasificadas como \"Medium\".\n",
        "\n",
        "132 muestras fueron erróneamente clasificadas como \"High\".\n",
        "\n",
        "258 muestras fueron incorrectamente clasificadas como \"Low\""
      ],
      "metadata": {
        "id": "KyqZJOHLWMtB"
      }
    },
    {
      "cell_type": "markdown",
      "source": [
        "# Métricas por clase\n",
        "\n",
        "Precisión\n",
        "\n",
        "Con este ítem busco resolver la siguiente pregunta: De todas las muestras predichas como clase X, ¿cuántas eran realmente de esa clase?\n",
        "\n",
        "Predicciones correctas de Medium: 194.\n",
        "\n",
        "Predicciones totales como Medium: 194 (correctas) + 194 (errores de Low) + 132 (errores de Medium) = 520.\n",
        "\n",
        "Precisión = 194 / 520 ≈ 0.37."
      ],
      "metadata": {
        "id": "B5Hd-vuyWzhz"
      }
    },
    {
      "cell_type": "markdown",
      "source": [
        "\n",
        "# Segundo Punto:Predecir la variable numérica Horas_de_estudio_por_semana_normalizadas, determinar el error para cada k y elegir la mejor k."
      ],
      "metadata": {
        "id": "dPHrtgyiW5Cq"
      }
    },
    {
      "cell_type": "code",
      "source": [
        "import polars as pl\n",
        "import pandas as pd\n",
        "from sklearn.preprocessing import StandardScaler\n",
        "from sklearn.model_selection import train_test_split\n",
        "from sklearn.neighbors import KNeighborsRegressor\n",
        "from sklearn.metrics import mean_squared_error\n",
        "import matplotlib.pyplot as plt\n",
        "\n",
        "# Cargar los datos (asegúrate de tener el archivo correcto)\n",
        "df = pl.read_csv(\"Students_Grading_Dataset_Biased.csv\")\n",
        "\n",
        "# Convertir Polars DataFrame a Pandas DataFrame para trabajar con sklearn\n",
        "df_pandas = df.to_pandas()\n",
        "\n",
        "# Selección de columnas relevantes\n",
        "df2 = df_pandas[['Study_Hours_per_Week', 'Grade', 'Stress_Level (1-10)', 'Internet_Access_at_Home', 'Family_Income_Level']]\n",
        "\n",
        "# One-Hot Encoding de las variables categóricas\n",
        "df2 = pd.get_dummies(df2, columns=['Grade', 'Internet_Access_at_Home', 'Family_Income_Level'])\n",
        "\n",
        "# Normalización de la variable objetivo 'Study_Hours_per_Week'\n",
        "scaler = StandardScaler()\n",
        "df2['Study_Hours_per_Week_normalized'] = scaler.fit_transform(df2[['Study_Hours_per_Week']])\n",
        "\n",
        "# Dividir el dataset en variables independientes y dependientes\n",
        "X = df2.drop(columns=['Study_Hours_per_Week', 'Study_Hours_per_Week_normalized'])\n",
        "y = df2['Study_Hours_per_Week_normalized']\n",
        "\n",
        "# Dividir el conjunto de datos en entrenamiento y prueba\n",
        "X_train, X_test, y_train, y_test = train_test_split(X, y, test_size=0.2, random_state=42)\n",
        "\n",
        "# Listar los valores de k a probar\n",
        "k_values = range(1, 21)\n",
        "errors = []\n",
        "\n",
        "# Probar diferentes valores de k\n",
        "for k in k_values:\n",
        "    model = KNeighborsRegressor(n_neighbors=k)\n",
        "    model.fit(X_train, y_train)\n",
        "\n",
        "    # Hacer predicciones\n",
        "    y_pred = model.predict(X_test)\n",
        "\n",
        "    # Calcular el error cuadrático medio (MSE)\n",
        "    mse = mean_squared_error(y_test, y_pred)\n",
        "    errors.append(mse)\n",
        "\n",
        "# Graficar el MSE para cada k\n",
        "plt.plot(k_values, errors, marker='o')\n",
        "plt.title('Error Cuadrático Medio (MSE) para diferentes valores de k')\n",
        "plt.xlabel('k (Número de vecinos)')\n",
        "plt.ylabel('MSE')\n",
        "plt.xticks(k_values)\n",
        "plt.grid(True)\n",
        "plt.show()\n",
        "\n",
        "# Mejor k (el que minimiza el MSE)\n",
        "best_k = k_values[errors.index(min(errors))]\n",
        "print(f\"El mejor valor de k es: {best_k}\")\n"
      ],
      "metadata": {
        "colab": {
          "base_uri": "https://localhost:8080/",
          "height": 490
        },
        "id": "_3ur3k5VXXEb",
        "outputId": "3960d85f-492e-4876-9500-3e41b4e7589b"
      },
      "execution_count": 57,
      "outputs": [
        {
          "output_type": "display_data",
          "data": {
            "text/plain": [
              "<Figure size 640x480 with 1 Axes>"
            ],
            "image/png": "[encoded data removed]"
          },
          "metadata": {}
        },
        {
          "output_type": "stream",
          "name": "stdout",
          "text": [
            "El mejor valor de k es: 20\n"
          ]
        }
      ]
    },
    {
      "cell_type": "markdown",
      "source": [
        "\n",
        "El código implementa un proceso de regresión utilizando el algoritmo de K-Vecinos más Cercanos (KNN) para predecir las horas de estudio por semana. A lo largo del proceso:\n",
        "\n",
        "Se cargan los datos y se preparan.\n",
        "\n",
        "Se codifican las variables categóricas usando One-Hot Encoding.\n",
        "\n",
        "Se normaliza la variable objetivo para mejorar el rendimiento del modelo.\n",
        "\n",
        "Se entrena el modelo con diferentes valores de k (número de vecinos) y se evalúa el rendimiento utilizando el Error Cuadrático Medio (MSE).\n",
        "\n",
        "Se selecciona el valor de k que minimiza el MSE y se muestra en una gráfica"
      ],
      "metadata": {
        "id": "EQ1aCT7cX0AS"
      }
    },
    {
      "cell_type": "markdown",
      "source": [],
      "metadata": {
        "id": "V3bAts3AXsg7"
      }
    },
    {
      "cell_type": "code",
      "source": [
        "print(df3.columns)\n"
      ],
      "metadata": {
        "colab": {
          "base_uri": "https://localhost:8080/"
        },
        "id": "eQ3Ljx1zYOg7",
        "outputId": "8ae16787-8e55-490f-dbe0-f674f5b576ae"
      },
      "execution_count": 61,
      "outputs": [
        {
          "output_type": "stream",
          "name": "stdout",
          "text": [
            "['Nota_Final', 'Nivel_Estres', 'Internet_en_Casa', 'Horas_Estudio_Semana', 'Nivel_Ingresos', 'Income_Low', 'Income_Medium', 'Income_High']\n"
          ]
        }
      ]
    },
    {
      "cell_type": "code",
      "source": [
        "# Asegúrate de que la columna \"Grade\" existe antes de intentar usarla\n",
        "if 'Grade' in df3.columns:\n",
        "    df4 = df3.hstack(df3.select(\"Grade\").to_dummies())\n",
        "    print(df4.schema)\n",
        "else:\n",
        "    print(\"La columna 'Grade' no está presente en el DataFrame.\")\n"
      ],
      "metadata": {
        "colab": {
          "base_uri": "https://localhost:8080/"
        },
        "id": "Vbk7p9DkYSVj",
        "outputId": "d0b34bb3-06c5-44c0-ee25-ec5bb101dcb2"
      },
      "execution_count": 62,
      "outputs": [
        {
          "output_type": "stream",
          "name": "stdout",
          "text": [
            "La columna 'Grade' no está presente en el DataFrame.\n"
          ]
        }
      ]
    },
    {
      "cell_type": "code",
      "source": [
        "df4 = df3.hstack(df3.select(\"Nota_Final\").to_dummies())\n"
      ],
      "metadata": {
        "id": "hlfL3X4qYYSE"
      },
      "execution_count": 63,
      "outputs": []
    },
    {
      "cell_type": "code",
      "source": [
        "print(df4.schema)\n"
      ],
      "metadata": {
        "colab": {
          "base_uri": "https://localhost:8080/"
        },
        "id": "F2Cd-5RXYe3l",
        "outputId": "73378888-81ea-4906-ca78-241f744ded78"
      },
      "execution_count": 64,
      "outputs": [
        {
          "output_type": "stream",
          "name": "stdout",
          "text": [
            "Schema([('Nota_Final', String), ('Nivel_Estres', Int64), ('Internet_en_Casa', String), ('Horas_Estudio_Semana', Float64), ('Nivel_Ingresos', String), ('Income_Low', Int8), ('Income_Medium', Int8), ('Income_High', Int8), ('Nota_Final_A', UInt8), ('Nota_Final_B', UInt8), ('Nota_Final_C', UInt8), ('Nota_Final_D', UInt8), ('Nota_Final_F', UInt8)])\n"
          ]
        }
      ]
    },
    {
      "cell_type": "code",
      "source": [
        "print(df4.head())\n"
      ],
      "metadata": {
        "colab": {
          "base_uri": "https://localhost:8080/"
        },
        "id": "SA-42RYtYizC",
        "outputId": "d9521b73-75d2-4439-c3e5-3426ed2ea010"
      },
      "execution_count": 65,
      "outputs": [
        {
          "output_type": "stream",
          "name": "stdout",
          "text": [
            "shape: (5, 13)\n",
            "┌───────────┬───────────┬───────────┬───────────┬───┬───────────┬───────────┬───────────┬──────────┐\n",
            "│ Nota_Fina ┆ Nivel_Est ┆ Internet_ ┆ Horas_Est ┆ … ┆ Nota_Fina ┆ Nota_Fina ┆ Nota_Fina ┆ Nota_Fin │\n",
            "│ l         ┆ res       ┆ en_Casa   ┆ udio_Sema ┆   ┆ l_B       ┆ l_C       ┆ l_D       ┆ al_F     │\n",
            "│ ---       ┆ ---       ┆ ---       ┆ na        ┆   ┆ ---       ┆ ---       ┆ ---       ┆ ---      │\n",
            "│ str       ┆ i64       ┆ str       ┆ ---       ┆   ┆ u8        ┆ u8        ┆ u8        ┆ u8       │\n",
            "│           ┆           ┆           ┆ f64       ┆   ┆           ┆           ┆           ┆          │\n",
            "╞═══════════╪═══════════╪═══════════╪═══════════╪═══╪═══════════╪═══════════╪═══════════╪══════════╡\n",
            "│ F         ┆ 5         ┆ Yes       ┆ 6.2       ┆ … ┆ 0         ┆ 0         ┆ 0         ┆ 1        │\n",
            "│ A         ┆ 4         ┆ Yes       ┆ 19.0      ┆ … ┆ 0         ┆ 0         ┆ 0         ┆ 0        │\n",
            "│ D         ┆ 6         ┆ Yes       ┆ 20.7      ┆ … ┆ 0         ┆ 0         ┆ 1         ┆ 0        │\n",
            "│ A         ┆ 3         ┆ Yes       ┆ 24.8      ┆ … ┆ 0         ┆ 0         ┆ 0         ┆ 0        │\n",
            "│ F         ┆ 2         ┆ Yes       ┆ 15.4      ┆ … ┆ 0         ┆ 0         ┆ 0         ┆ 1        │\n",
            "└───────────┴───────────┴───────────┴───────────┴───┴───────────┴───────────┴───────────┴──────────┘\n"
          ]
        }
      ]
    },
    {
      "cell_type": "code",
      "source": [
        "print(df3.columns)\n"
      ],
      "metadata": {
        "colab": {
          "base_uri": "https://localhost:8080/"
        },
        "id": "_Rf9IjGTY0m8",
        "outputId": "f6765efc-a4b5-4e91-8f5b-c3ce8f29d687"
      },
      "execution_count": 67,
      "outputs": [
        {
          "output_type": "stream",
          "name": "stdout",
          "text": [
            "['Nota_Final', 'Nivel_Estres', 'Internet_en_Casa', 'Horas_Estudio_Semana', 'Nivel_Ingresos', 'Income_Low', 'Income_Medium', 'Income_High']\n"
          ]
        }
      ]
    },
    {
      "cell_type": "code",
      "source": [
        "print(df3.columns)\n"
      ],
      "metadata": {
        "colab": {
          "base_uri": "https://localhost:8080/"
        },
        "id": "OPscRXMGZDat",
        "outputId": "45613264-0545-41ca-82b7-ce8dcc4d1c01"
      },
      "execution_count": 69,
      "outputs": [
        {
          "output_type": "stream",
          "name": "stdout",
          "text": [
            "['Nota_Final', 'Nivel_Estres', 'Internet_en_Casa', 'Horas_Estudio_Semana', 'Nivel_Ingresos', 'Income_Low', 'Income_Medium', 'Income_High']\n"
          ]
        }
      ]
    },
    {
      "cell_type": "code",
      "source": [
        "df4 = df3.hstack(df3.select(\"Nota_Final\").to_dummies())\n",
        "print(df4.schema)\n"
      ],
      "metadata": {
        "colab": {
          "base_uri": "https://localhost:8080/"
        },
        "id": "tpZjDxK2ZKKD",
        "outputId": "5f1d92cf-db23-4741-8664-f28e52f2c167"
      },
      "execution_count": 70,
      "outputs": [
        {
          "output_type": "stream",
          "name": "stdout",
          "text": [
            "Schema([('Nota_Final', String), ('Nivel_Estres', Int64), ('Internet_en_Casa', String), ('Horas_Estudio_Semana', Float64), ('Nivel_Ingresos', String), ('Income_Low', Int8), ('Income_Medium', Int8), ('Income_High', Int8), ('Nota_Final_A', UInt8), ('Nota_Final_B', UInt8), ('Nota_Final_C', UInt8), ('Nota_Final_D', UInt8), ('Nota_Final_F', UInt8)])\n"
          ]
        }
      ]
    },
    {
      "cell_type": "code",
      "source": [
        "# Verifica las columnas de df3\n",
        "print(df3.columns)\n",
        "\n",
        "# Si df4 es una transformación de df3, revisemos también las columnas de df4\n",
        "print(df4.columns)\n"
      ],
      "metadata": {
        "colab": {
          "base_uri": "https://localhost:8080/"
        },
        "id": "CU0itGc0ZsXM",
        "outputId": "866cc6fb-f883-4d92-a6c5-c04b4b20b828"
      },
      "execution_count": 73,
      "outputs": [
        {
          "output_type": "stream",
          "name": "stdout",
          "text": [
            "['Nota_Final', 'Nivel_Estres', 'Internet_en_Casa', 'Horas_Estudio_Semana', 'Nivel_Ingresos', 'Income_Low', 'Income_Medium', 'Income_High']\n",
            "['Nota_Final', 'Nivel_Estres', 'Internet_en_Casa', 'Horas_Estudio_Semana', 'Nivel_Ingresos', 'Income_Low', 'Income_Medium', 'Income_High', 'Nota_Final_A', 'Nota_Final_B', 'Nota_Final_C', 'Nota_Final_D', 'Nota_Final_F']\n"
          ]
        }
      ]
    },
    {
      "cell_type": "code",
      "source": [
        "\n",
        "df4.select(['Nota_Final','Nota_Final_A', 'Nota_Final_B', 'Nota_Final_C', 'Nota_Final_D', 'Nota_Final_F'])"
      ],
      "metadata": {
        "colab": {
          "base_uri": "https://localhost:8080/",
          "height": 443
        },
        "id": "e4J7-Q64Z1tj",
        "outputId": "22677803-ba82-40e6-884c-313fb5ffbceb"
      },
      "execution_count": 74,
      "outputs": [
        {
          "output_type": "execute_result",
          "data": {
            "text/plain": [
              "shape: (5_000, 6)\n",
              "┌────────────┬──────────────┬──────────────┬──────────────┬──────────────┬──────────────┐\n",
              "│ Nota_Final ┆ Nota_Final_A ┆ Nota_Final_B ┆ Nota_Final_C ┆ Nota_Final_D ┆ Nota_Final_F │\n",
              "│ ---        ┆ ---          ┆ ---          ┆ ---          ┆ ---          ┆ ---          │\n",
              "│ str        ┆ u8           ┆ u8           ┆ u8           ┆ u8           ┆ u8           │\n",
              "╞════════════╪══════════════╪══════════════╪══════════════╪══════════════╪══════════════╡\n",
              "│ F          ┆ 0            ┆ 0            ┆ 0            ┆ 0            ┆ 1            │\n",
              "│ A          ┆ 1            ┆ 0            ┆ 0            ┆ 0            ┆ 0            │\n",
              "│ D          ┆ 0            ┆ 0            ┆ 0            ┆ 1            ┆ 0            │\n",
              "│ A          ┆ 1            ┆ 0            ┆ 0            ┆ 0            ┆ 0            │\n",
              "│ F          ┆ 0            ┆ 0            ┆ 0            ┆ 0            ┆ 1            │\n",
              "│ …          ┆ …            ┆ …            ┆ …            ┆ …            ┆ …            │\n",
              "│ D          ┆ 0            ┆ 0            ┆ 0            ┆ 1            ┆ 0            │\n",
              "│ C          ┆ 0            ┆ 0            ┆ 1            ┆ 0            ┆ 0            │\n",
              "│ A          ┆ 1            ┆ 0            ┆ 0            ┆ 0            ┆ 0            │\n",
              "│ A          ┆ 1            ┆ 0            ┆ 0            ┆ 0            ┆ 0            │\n",
              "│ F          ┆ 0            ┆ 0            ┆ 0            ┆ 0            ┆ 1            │\n",
              "└────────────┴──────────────┴──────────────┴──────────────┴──────────────┴──────────────┘"
            ],
            "text/html": [
              "<div><style>\n",
              ".dataframe > thead > tr,\n",
              ".dataframe > tbody > tr {\n",
              "  text-align: right;\n",
              "  white-space: pre-wrap;\n",
              "}\n",
              "</style>\n",
              "<small>shape: (5_000, 6)</small><table border=\"1\" class=\"dataframe\"><thead><tr><th>Nota_Final</th><th>Nota_Final_A</th><th>Nota_Final_B</th><th>Nota_Final_C</th><th>Nota_Final_D</th><th>Nota_Final_F</th></tr><tr><td>str</td><td>u8</td><td>u8</td><td>u8</td><td>u8</td><td>u8</td></tr></thead><tbody><tr><td>&quot;F&quot;</td><td>0</td><td>0</td><td>0</td><td>0</td><td>1</td></tr><tr><td>&quot;A&quot;</td><td>1</td><td>0</td><td>0</td><td>0</td><td>0</td></tr><tr><td>&quot;D&quot;</td><td>0</td><td>0</td><td>0</td><td>1</td><td>0</td></tr><tr><td>&quot;A&quot;</td><td>1</td><td>0</td><td>0</td><td>0</td><td>0</td></tr><tr><td>&quot;F&quot;</td><td>0</td><td>0</td><td>0</td><td>0</td><td>1</td></tr><tr><td>&hellip;</td><td>&hellip;</td><td>&hellip;</td><td>&hellip;</td><td>&hellip;</td><td>&hellip;</td></tr><tr><td>&quot;D&quot;</td><td>0</td><td>0</td><td>0</td><td>1</td><td>0</td></tr><tr><td>&quot;C&quot;</td><td>0</td><td>0</td><td>1</td><td>0</td><td>0</td></tr><tr><td>&quot;A&quot;</td><td>1</td><td>0</td><td>0</td><td>0</td><td>0</td></tr><tr><td>&quot;A&quot;</td><td>1</td><td>0</td><td>0</td><td>0</td><td>0</td></tr><tr><td>&quot;F&quot;</td><td>0</td><td>0</td><td>0</td><td>0</td><td>1</td></tr></tbody></table></div>"
            ]
          },
          "metadata": {},
          "execution_count": 74
        }
      ]
    },
    {
      "cell_type": "code",
      "source": [
        "# Verifica las columnas de df4\n",
        "print(df4.columns)\n"
      ],
      "metadata": {
        "colab": {
          "base_uri": "https://localhost:8080/"
        },
        "id": "NCKm7ncXav3r",
        "outputId": "ecb3d104-cba4-46c4-b58c-d4d6b4428f96"
      },
      "execution_count": 76,
      "outputs": [
        {
          "output_type": "stream",
          "name": "stdout",
          "text": [
            "['Nota_Final', 'Nivel_Estres', 'Internet_en_Casa', 'Horas_Estudio_Semana', 'Nivel_Ingresos', 'Income_Low', 'Income_Medium', 'Income_High', 'Nota_Final_A', 'Nota_Final_B', 'Nota_Final_C', 'Nota_Final_D', 'Nota_Final_F']\n"
          ]
        }
      ]
    },
    {
      "cell_type": "code",
      "source": [
        "print(df4.columns)\n"
      ],
      "metadata": {
        "colab": {
          "base_uri": "https://localhost:8080/"
        },
        "id": "4FasRuW4b_at",
        "outputId": "68d8a462-07df-4145-977f-903c600f94bd"
      },
      "execution_count": 84,
      "outputs": [
        {
          "output_type": "stream",
          "name": "stdout",
          "text": [
            "['Nota_Final', 'Nivel_Estres', 'Internet_en_Casa', 'Horas_Estudio_Semana', 'Nivel_Ingresos', 'Income_Low', 'Income_Medium', 'Income_High', 'Nota_Final_A', 'Nota_Final_B', 'Nota_Final_C', 'Nota_Final_D', 'Nota_Final_F']\n"
          ]
        }
      ]
    },
    {
      "cell_type": "code",
      "source": [
        "print(df4.schema)\n"
      ],
      "metadata": {
        "colab": {
          "base_uri": "https://localhost:8080/"
        },
        "id": "4xRJsys4cc3N",
        "outputId": "9a44b55f-705a-4b38-9dd6-7ae7321dcd59"
      },
      "execution_count": 88,
      "outputs": [
        {
          "output_type": "stream",
          "name": "stdout",
          "text": [
            "Schema([('Nota_Final', String), ('Nivel_Estres', Int64), ('Internet_en_Casa', Int8), ('Horas_Estudio_Semana', Float64), ('Nivel_Ingresos', String), ('Income_Low', Int8), ('Income_Medium', Int8), ('Income_High', Int8), ('Nota_Final_A', UInt8), ('Nota_Final_B', UInt8), ('Nota_Final_C', UInt8), ('Nota_Final_D', UInt8), ('Nota_Final_F', UInt8)])\n"
          ]
        }
      ]
    },
    {
      "cell_type": "code",
      "source": [
        "df4.select(\"Internet_en_Casa\").unique()\n"
      ],
      "metadata": {
        "colab": {
          "base_uri": "https://localhost:8080/",
          "height": 161
        },
        "id": "1R0-WLioc62X",
        "outputId": "81cbade7-65a1-4a15-85de-222c29f7f17b"
      },
      "execution_count": 91,
      "outputs": [
        {
          "output_type": "execute_result",
          "data": {
            "text/plain": [
              "shape: (2, 1)\n",
              "┌──────────────────┐\n",
              "│ Internet_en_Casa │\n",
              "│ ---              │\n",
              "│ i8               │\n",
              "╞══════════════════╡\n",
              "│ 1                │\n",
              "│ 0                │\n",
              "└──────────────────┘"
            ],
            "text/html": [
              "<div><style>\n",
              ".dataframe > thead > tr,\n",
              ".dataframe > tbody > tr {\n",
              "  text-align: right;\n",
              "  white-space: pre-wrap;\n",
              "}\n",
              "</style>\n",
              "<small>shape: (2, 1)</small><table border=\"1\" class=\"dataframe\"><thead><tr><th>Internet_en_Casa</th></tr><tr><td>i8</td></tr></thead><tbody><tr><td>1</td></tr><tr><td>0</td></tr></tbody></table></div>"
            ]
          },
          "metadata": {},
          "execution_count": 91
        }
      ]
    },
    {
      "cell_type": "code",
      "source": [],
      "metadata": {
        "id": "oI8PqavAe5pd"
      },
      "execution_count": null,
      "outputs": []
    },
    {
      "cell_type": "code",
      "source": [],
      "metadata": {
        "id": "fEvuNkINe5dP"
      },
      "execution_count": null,
      "outputs": []
    },
    {
      "cell_type": "markdown",
      "source": [
        "# Tercer Punto:\n",
        "\n",
        "\n",
        " *Añadir nuevas variables que puedan mejorar el rendimiento.\n",
        "Algunas variables nuevas que pueden mejorar que hacen parte del dataset original y pueden ayudar a mejorar el rendimiento actual son:*\n",
        "\n",
        "\n",
        "Attendance (%): La justificación sería que posiblemente estudiantes con mayor asistencia podrían tener hábitos de estudio más consistentes.\n",
        "\n",
        "Midterm_Score y Final_Score: La justificación sería que las calificaciones altas podrían correlacionarse con más horas de estudio.\n",
        "\n",
        "Sleep_Hours_per_Night: La justificación sería que menos horas de sueño podrían indicar más horas de estudio (o viceversa).\n",
        "\n",
        "Projects_Score y Quizzes_Avg: La justificación sería que las actividades académicas específicas podrían requerir más tiempo de estudio.\n",
        "\n",
        "Total_Score: La justificación sería que la puntuación global académica como proxy de dedicación."
      ],
      "metadata": {
        "id": "86KWxaogeEp_"
      }
    },
    {
      "cell_type": "code",
      "source": [
        "import pandas as pd\n",
        "from sklearn.preprocessing import StandardScaler, OneHotEncoder\n",
        "from sklearn.compose import ColumnTransformer\n",
        "\n",
        "# Cargar datos\n",
        "df = pd.read_csv(\"/content/Students_Grading_Dataset_Biased.csv\")\n",
        "\n",
        "# Crear nuevas variables (ejemplo)\n",
        "df[\"Stress_Sleep_Interaction\"] = df[\"Stress_Level (1-10)\"] * df[\"Sleep_Hours_per_Night\"]\n",
        "df[\"Score_Improvement\"] = df[\"Final_Score\"] - df[\"Midterm_Score\"]\n",
        "\n",
        "\n",
        "# Definir columnas\n",
        "numerical_cols = [\"Stress_Level (1-10)\", \"Sleep_Hours_per_Night\", \"Attendance (%)\", \"Midterm_Score\", \"Final_Score\"]\n",
        "categorical_cols = [\"Grade\", \"Internet_Access_at_Home\", \"Family_Income_Level\"]\n",
        "\n",
        "# Pipeline de preprocesamiento\n",
        "preprocessor = ColumnTransformer(\n",
        "    transformers=[\n",
        "        (\"num\", StandardScaler(), numerical_cols),\n",
        "        (\"cat\", OneHotEncoder(), categorical_cols)\n",
        "    ])\n",
        "\n",
        "X = preprocessor.fit_transform(df)\n",
        "y = df[\"Study_Hours_per_Week\"]\n",
        "\n",
        "\n",
        "from sklearn.model_selection import train_test_split\n",
        "from sklearn.neighbors import KNeighborsRegressor\n",
        "from sklearn.metrics import mean_squared_error\n",
        "from sklearn.impute import SimpleImputer\n",
        "\n",
        "# Instead of using fillna on the NumPy array, use SimpleImputer\n",
        "imputer = SimpleImputer(strategy='constant', fill_value=0)\n",
        "X = imputer.fit_transform(X)\n",
        "\n",
        "X_train, X_test, y_train, y_test = train_test_split(X, y, test_size=0.2, random_state=42)\n",
        "\n",
        "# Modelo con nuevas variables\n",
        "model = KNeighborsRegressor(n_neighbors=10)\n",
        "model.fit(X_train, y_train)\n",
        "y_pred = model.predict(X_test)\n",
        "print(\"MSE:\", mean_squared_error(y_test, y_pred))\n",
        "\n",
        "\n",
        "\n"
      ],
      "metadata": {
        "colab": {
          "base_uri": "https://localhost:8080/"
        },
        "id": "nUM3yEGdesTf",
        "outputId": "026b313e-83b5-45af-82c7-35c89c5b90b9"
      },
      "execution_count": 94,
      "outputs": [
        {
          "output_type": "stream",
          "name": "stdout",
          "text": [
            "MSE: 60.740129800000005\n"
          ]
        }
      ]
    }
  ]
}